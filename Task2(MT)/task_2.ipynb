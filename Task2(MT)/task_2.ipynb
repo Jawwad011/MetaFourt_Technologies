{
  "nbformat": 4,
  "nbformat_minor": 0,
  "metadata": {
    "colab": {
      "name": "task 2.ipynb",
      "provenance": [],
      "collapsed_sections": []
    },
    "kernelspec": {
      "name": "python3",
      "display_name": "Python 3"
    },
    "language_info": {
      "name": "python"
    }
  },
  "cells": [
    {
      "cell_type": "code",
      "execution_count": 188,
      "metadata": {
        "id": "rxq3RVzRgvL9"
      },
      "outputs": [],
      "source": [
        "from sklearn import preprocessing\n",
        "import pandas as pd\n",
        "import numpy as np\n",
        "from sklearn.model_selection import train_test_split\n",
        "from sklearn.preprocessing import LabelEncoder\n",
        "from sklearn.preprocessing import StandardScaler\n",
        "from sklearn.metrics import accuracy_score\n",
        "from sklearn.svm import SVC"
      ]
    },
    {
      "cell_type": "code",
      "source": [
        "aut_mob=pd.read_csv(\"https://archive.ics.uci.edu/ml/machine-learning-databases/autos/imports-85.data\",names=['symboling',' normalized-losses','make','fuel-type','aspiration',' num-of-doors','body-style',' drive-wheels','engine-location','wheel-base','length','width','height','curb-weight','engine-type','num-of-cylinders','engine-size','fuel-system','bore','stroke','compression-ratio','horsepower','peak-rpm','city-mpg','highway-mpg','price'],na_values='?')"
      ],
      "metadata": {
        "id": "l3tFCWsvl52V"
      },
      "execution_count": 36,
      "outputs": []
    },
    {
      "cell_type": "code",
      "source": [
        "aut_mob.head()"
      ],
      "metadata": {
        "colab": {
          "base_uri": "https://localhost:8080/",
          "height": 317
        },
        "id": "At9Iv5aumbUZ",
        "outputId": "a6f1d102-429d-4411-9403-0dacbc0645e6"
      },
      "execution_count": 139,
      "outputs": [
        {
          "output_type": "execute_result",
          "data": {
            "text/plain": [
              "   symboling   normalized-losses  wheel-base  length  width  height  \\\n",
              "0          3               164.0        88.6   168.8   64.1    48.8   \n",
              "1          3               164.0        88.6   168.8   64.1    48.8   \n",
              "2          1               164.0        94.5   171.2   65.5    52.4   \n",
              "3          2               164.0        99.8   176.6   66.2    54.3   \n",
              "4          2               164.0        99.4   176.6   66.4    54.3   \n",
              "\n",
              "   curb-weight  engine-size  bore  stroke  ...  make_label  fuel_type_label  \\\n",
              "0         2548          130  3.47    2.68  ...           0                1   \n",
              "1         2548          130  3.47    2.68  ...           0                1   \n",
              "2         2823          152  2.68    3.47  ...           0                1   \n",
              "3         2337          109  3.19    3.40  ...           1                1   \n",
              "4         2824          136  3.19    3.40  ...           1                1   \n",
              "\n",
              "   aspiration_label   number_of_doors_label   body_style_label  \\\n",
              "0                 0                       1                  0   \n",
              "1                 0                       1                  0   \n",
              "2                 0                       1                  2   \n",
              "3                 0                       0                  3   \n",
              "4                 0                       0                  3   \n",
              "\n",
              "    drive_wheel_label   engine_location_label  fuel_system_label  \\\n",
              "0                   2                       0                  5   \n",
              "1                   2                       0                  5   \n",
              "2                   2                       0                  5   \n",
              "3                   1                       0                  5   \n",
              "4                   0                       0                  5   \n",
              "\n",
              "   engine_type_label  num-of-cylinders_label  \n",
              "0                  0                       2  \n",
              "1                  0                       2  \n",
              "2                  5                       3  \n",
              "3                  3                       2  \n",
              "4                  3                       1  \n",
              "\n",
              "[5 rows x 26 columns]"
            ],
            "text/html": [
              "\n",
              "  <div id=\"df-2d856c75-770e-4d5b-861a-cbb8b26166cc\">\n",
              "    <div class=\"colab-df-container\">\n",
              "      <div>\n",
              "<style scoped>\n",
              "    .dataframe tbody tr th:only-of-type {\n",
              "        vertical-align: middle;\n",
              "    }\n",
              "\n",
              "    .dataframe tbody tr th {\n",
              "        vertical-align: top;\n",
              "    }\n",
              "\n",
              "    .dataframe thead th {\n",
              "        text-align: right;\n",
              "    }\n",
              "</style>\n",
              "<table border=\"1\" class=\"dataframe\">\n",
              "  <thead>\n",
              "    <tr style=\"text-align: right;\">\n",
              "      <th></th>\n",
              "      <th>symboling</th>\n",
              "      <th>normalized-losses</th>\n",
              "      <th>wheel-base</th>\n",
              "      <th>length</th>\n",
              "      <th>width</th>\n",
              "      <th>height</th>\n",
              "      <th>curb-weight</th>\n",
              "      <th>engine-size</th>\n",
              "      <th>bore</th>\n",
              "      <th>stroke</th>\n",
              "      <th>...</th>\n",
              "      <th>make_label</th>\n",
              "      <th>fuel_type_label</th>\n",
              "      <th>aspiration_label</th>\n",
              "      <th>number_of_doors_label</th>\n",
              "      <th>body_style_label</th>\n",
              "      <th>drive_wheel_label</th>\n",
              "      <th>engine_location_label</th>\n",
              "      <th>fuel_system_label</th>\n",
              "      <th>engine_type_label</th>\n",
              "      <th>num-of-cylinders_label</th>\n",
              "    </tr>\n",
              "  </thead>\n",
              "  <tbody>\n",
              "    <tr>\n",
              "      <th>0</th>\n",
              "      <td>3</td>\n",
              "      <td>164.0</td>\n",
              "      <td>88.6</td>\n",
              "      <td>168.8</td>\n",
              "      <td>64.1</td>\n",
              "      <td>48.8</td>\n",
              "      <td>2548</td>\n",
              "      <td>130</td>\n",
              "      <td>3.47</td>\n",
              "      <td>2.68</td>\n",
              "      <td>...</td>\n",
              "      <td>0</td>\n",
              "      <td>1</td>\n",
              "      <td>0</td>\n",
              "      <td>1</td>\n",
              "      <td>0</td>\n",
              "      <td>2</td>\n",
              "      <td>0</td>\n",
              "      <td>5</td>\n",
              "      <td>0</td>\n",
              "      <td>2</td>\n",
              "    </tr>\n",
              "    <tr>\n",
              "      <th>1</th>\n",
              "      <td>3</td>\n",
              "      <td>164.0</td>\n",
              "      <td>88.6</td>\n",
              "      <td>168.8</td>\n",
              "      <td>64.1</td>\n",
              "      <td>48.8</td>\n",
              "      <td>2548</td>\n",
              "      <td>130</td>\n",
              "      <td>3.47</td>\n",
              "      <td>2.68</td>\n",
              "      <td>...</td>\n",
              "      <td>0</td>\n",
              "      <td>1</td>\n",
              "      <td>0</td>\n",
              "      <td>1</td>\n",
              "      <td>0</td>\n",
              "      <td>2</td>\n",
              "      <td>0</td>\n",
              "      <td>5</td>\n",
              "      <td>0</td>\n",
              "      <td>2</td>\n",
              "    </tr>\n",
              "    <tr>\n",
              "      <th>2</th>\n",
              "      <td>1</td>\n",
              "      <td>164.0</td>\n",
              "      <td>94.5</td>\n",
              "      <td>171.2</td>\n",
              "      <td>65.5</td>\n",
              "      <td>52.4</td>\n",
              "      <td>2823</td>\n",
              "      <td>152</td>\n",
              "      <td>2.68</td>\n",
              "      <td>3.47</td>\n",
              "      <td>...</td>\n",
              "      <td>0</td>\n",
              "      <td>1</td>\n",
              "      <td>0</td>\n",
              "      <td>1</td>\n",
              "      <td>2</td>\n",
              "      <td>2</td>\n",
              "      <td>0</td>\n",
              "      <td>5</td>\n",
              "      <td>5</td>\n",
              "      <td>3</td>\n",
              "    </tr>\n",
              "    <tr>\n",
              "      <th>3</th>\n",
              "      <td>2</td>\n",
              "      <td>164.0</td>\n",
              "      <td>99.8</td>\n",
              "      <td>176.6</td>\n",
              "      <td>66.2</td>\n",
              "      <td>54.3</td>\n",
              "      <td>2337</td>\n",
              "      <td>109</td>\n",
              "      <td>3.19</td>\n",
              "      <td>3.40</td>\n",
              "      <td>...</td>\n",
              "      <td>1</td>\n",
              "      <td>1</td>\n",
              "      <td>0</td>\n",
              "      <td>0</td>\n",
              "      <td>3</td>\n",
              "      <td>1</td>\n",
              "      <td>0</td>\n",
              "      <td>5</td>\n",
              "      <td>3</td>\n",
              "      <td>2</td>\n",
              "    </tr>\n",
              "    <tr>\n",
              "      <th>4</th>\n",
              "      <td>2</td>\n",
              "      <td>164.0</td>\n",
              "      <td>99.4</td>\n",
              "      <td>176.6</td>\n",
              "      <td>66.4</td>\n",
              "      <td>54.3</td>\n",
              "      <td>2824</td>\n",
              "      <td>136</td>\n",
              "      <td>3.19</td>\n",
              "      <td>3.40</td>\n",
              "      <td>...</td>\n",
              "      <td>1</td>\n",
              "      <td>1</td>\n",
              "      <td>0</td>\n",
              "      <td>0</td>\n",
              "      <td>3</td>\n",
              "      <td>0</td>\n",
              "      <td>0</td>\n",
              "      <td>5</td>\n",
              "      <td>3</td>\n",
              "      <td>1</td>\n",
              "    </tr>\n",
              "  </tbody>\n",
              "</table>\n",
              "<p>5 rows × 26 columns</p>\n",
              "</div>\n",
              "      <button class=\"colab-df-convert\" onclick=\"convertToInteractive('df-2d856c75-770e-4d5b-861a-cbb8b26166cc')\"\n",
              "              title=\"Convert this dataframe to an interactive table.\"\n",
              "              style=\"display:none;\">\n",
              "        \n",
              "  <svg xmlns=\"http://www.w3.org/2000/svg\" height=\"24px\"viewBox=\"0 0 24 24\"\n",
              "       width=\"24px\">\n",
              "    <path d=\"M0 0h24v24H0V0z\" fill=\"none\"/>\n",
              "    <path d=\"M18.56 5.44l.94 2.06.94-2.06 2.06-.94-2.06-.94-.94-2.06-.94 2.06-2.06.94zm-11 1L8.5 8.5l.94-2.06 2.06-.94-2.06-.94L8.5 2.5l-.94 2.06-2.06.94zm10 10l.94 2.06.94-2.06 2.06-.94-2.06-.94-.94-2.06-.94 2.06-2.06.94z\"/><path d=\"M17.41 7.96l-1.37-1.37c-.4-.4-.92-.59-1.43-.59-.52 0-1.04.2-1.43.59L10.3 9.45l-7.72 7.72c-.78.78-.78 2.05 0 2.83L4 21.41c.39.39.9.59 1.41.59.51 0 1.02-.2 1.41-.59l7.78-7.78 2.81-2.81c.8-.78.8-2.07 0-2.86zM5.41 20L4 18.59l7.72-7.72 1.47 1.35L5.41 20z\"/>\n",
              "  </svg>\n",
              "      </button>\n",
              "      \n",
              "  <style>\n",
              "    .colab-df-container {\n",
              "      display:flex;\n",
              "      flex-wrap:wrap;\n",
              "      gap: 12px;\n",
              "    }\n",
              "\n",
              "    .colab-df-convert {\n",
              "      background-color: #E8F0FE;\n",
              "      border: none;\n",
              "      border-radius: 50%;\n",
              "      cursor: pointer;\n",
              "      display: none;\n",
              "      fill: #1967D2;\n",
              "      height: 32px;\n",
              "      padding: 0 0 0 0;\n",
              "      width: 32px;\n",
              "    }\n",
              "\n",
              "    .colab-df-convert:hover {\n",
              "      background-color: #E2EBFA;\n",
              "      box-shadow: 0px 1px 2px rgba(60, 64, 67, 0.3), 0px 1px 3px 1px rgba(60, 64, 67, 0.15);\n",
              "      fill: #174EA6;\n",
              "    }\n",
              "\n",
              "    [theme=dark] .colab-df-convert {\n",
              "      background-color: #3B4455;\n",
              "      fill: #D2E3FC;\n",
              "    }\n",
              "\n",
              "    [theme=dark] .colab-df-convert:hover {\n",
              "      background-color: #434B5C;\n",
              "      box-shadow: 0px 1px 3px 1px rgba(0, 0, 0, 0.15);\n",
              "      filter: drop-shadow(0px 1px 2px rgba(0, 0, 0, 0.3));\n",
              "      fill: #FFFFFF;\n",
              "    }\n",
              "  </style>\n",
              "\n",
              "      <script>\n",
              "        const buttonEl =\n",
              "          document.querySelector('#df-2d856c75-770e-4d5b-861a-cbb8b26166cc button.colab-df-convert');\n",
              "        buttonEl.style.display =\n",
              "          google.colab.kernel.accessAllowed ? 'block' : 'none';\n",
              "\n",
              "        async function convertToInteractive(key) {\n",
              "          const element = document.querySelector('#df-2d856c75-770e-4d5b-861a-cbb8b26166cc');\n",
              "          const dataTable =\n",
              "            await google.colab.kernel.invokeFunction('convertToInteractive',\n",
              "                                                     [key], {});\n",
              "          if (!dataTable) return;\n",
              "\n",
              "          const docLinkHtml = 'Like what you see? Visit the ' +\n",
              "            '<a target=\"_blank\" href=https://colab.research.google.com/notebooks/data_table.ipynb>data table notebook</a>'\n",
              "            + ' to learn more about interactive tables.';\n",
              "          element.innerHTML = '';\n",
              "          dataTable['output_type'] = 'display_data';\n",
              "          await google.colab.output.renderOutput(dataTable, element);\n",
              "          const docLink = document.createElement('div');\n",
              "          docLink.innerHTML = docLinkHtml;\n",
              "          element.appendChild(docLink);\n",
              "        }\n",
              "      </script>\n",
              "    </div>\n",
              "  </div>\n",
              "  "
            ]
          },
          "metadata": {},
          "execution_count": 139
        }
      ]
    },
    {
      "cell_type": "code",
      "source": [
        "aut_mob.shape"
      ],
      "metadata": {
        "colab": {
          "base_uri": "https://localhost:8080/"
        },
        "id": "PAzhNgV0x2ZX",
        "outputId": "90178785-3eab-4c5d-9d4a-27328368d295"
      },
      "execution_count": 38,
      "outputs": [
        {
          "output_type": "execute_result",
          "data": {
            "text/plain": [
              "(205, 26)"
            ]
          },
          "metadata": {},
          "execution_count": 38
        }
      ]
    },
    {
      "cell_type": "code",
      "source": [
        "aut_mob.info()"
      ],
      "metadata": {
        "colab": {
          "base_uri": "https://localhost:8080/"
        },
        "id": "qItMT5lLSZMR",
        "outputId": "36d7aa65-de20-487e-fd7e-04ea3796394d"
      },
      "execution_count": 163,
      "outputs": [
        {
          "output_type": "stream",
          "name": "stdout",
          "text": [
            "<class 'pandas.core.frame.DataFrame'>\n",
            "RangeIndex: 205 entries, 0 to 204\n",
            "Data columns (total 26 columns):\n",
            " #   Column                  Non-Null Count  Dtype  \n",
            "---  ------                  --------------  -----  \n",
            " 0   symboling               205 non-null    int64  \n",
            " 1    normalized-losses      205 non-null    float64\n",
            " 2   wheel-base              205 non-null    float64\n",
            " 3   length                  205 non-null    float64\n",
            " 4   width                   205 non-null    float64\n",
            " 5   height                  205 non-null    float64\n",
            " 6   curb-weight             205 non-null    int64  \n",
            " 7   engine-size             205 non-null    int64  \n",
            " 8   bore                    205 non-null    float64\n",
            " 9   stroke                  205 non-null    float64\n",
            " 10  compression-ratio       205 non-null    float64\n",
            " 11  horsepower              205 non-null    float64\n",
            " 12  peak-rpm                205 non-null    float64\n",
            " 13  city-mpg                205 non-null    int64  \n",
            " 14  highway-mpg             205 non-null    int64  \n",
            " 15  price                   205 non-null    float64\n",
            " 16  make_label              205 non-null    int64  \n",
            " 17  fuel_type_label         205 non-null    int64  \n",
            " 18  aspiration_label        205 non-null    int64  \n",
            " 19   number_of_doors_label  205 non-null    int64  \n",
            " 20   body_style_label       205 non-null    int64  \n",
            " 21   drive_wheel_label      205 non-null    int64  \n",
            " 22   engine_location_label  205 non-null    int64  \n",
            " 23  fuel_system_label       205 non-null    int64  \n",
            " 24  engine_type_label       205 non-null    int64  \n",
            " 25  num-of-cylinders_label  205 non-null    int64  \n",
            "dtypes: float64(11), int64(15)\n",
            "memory usage: 41.8 KB\n"
          ]
        }
      ]
    },
    {
      "cell_type": "code",
      "source": [
        ""
      ],
      "metadata": {
        "id": "8E2XNcesSZdm"
      },
      "execution_count": null,
      "outputs": []
    },
    {
      "cell_type": "code",
      "source": [
        "aut_mob.isnull().sum()"
      ],
      "metadata": {
        "colab": {
          "base_uri": "https://localhost:8080/"
        },
        "id": "MITSIDPZzjXo",
        "outputId": "dc4786b6-12e5-4d1d-a71d-82bdc4d90013"
      },
      "execution_count": 156,
      "outputs": [
        {
          "output_type": "execute_result",
          "data": {
            "text/plain": [
              "symboling                 0\n",
              " normalized-losses        0\n",
              "wheel-base                0\n",
              "length                    0\n",
              "width                     0\n",
              "height                    0\n",
              "curb-weight               0\n",
              "engine-size               0\n",
              "bore                      0\n",
              "stroke                    0\n",
              "compression-ratio         0\n",
              "horsepower                0\n",
              "peak-rpm                  0\n",
              "city-mpg                  0\n",
              "highway-mpg               0\n",
              "price                     0\n",
              "make_label                0\n",
              "fuel_type_label           0\n",
              "aspiration_label          0\n",
              " number_of_doors_label    0\n",
              " body_style_label         0\n",
              " drive_wheel_label        0\n",
              " engine_location_label    0\n",
              "fuel_system_label         0\n",
              "engine_type_label         0\n",
              "num-of-cylinders_label    0\n",
              "dtype: int64"
            ]
          },
          "metadata": {},
          "execution_count": 156
        }
      ]
    },
    {
      "cell_type": "code",
      "source": [
        "aut_mob[' normalized-losses'].fillna(method='backfill',inplace=True)"
      ],
      "metadata": {
        "id": "f-vWaAnzzzWv"
      },
      "execution_count": 41,
      "outputs": []
    },
    {
      "cell_type": "code",
      "source": [
        "aut_mob['price'].fillna(method='ffill',inplace=True)"
      ],
      "metadata": {
        "id": "k0P_ND-I0Cog"
      },
      "execution_count": 42,
      "outputs": []
    },
    {
      "cell_type": "code",
      "source": [
        "a=aut_mob['horsepower'].mean().round(0)"
      ],
      "metadata": {
        "id": "81T0Msfi80WT"
      },
      "execution_count": 154,
      "outputs": []
    },
    {
      "cell_type": "code",
      "source": [
        "aut_mob['horsepower'].fillna(a,inplace=True)"
      ],
      "metadata": {
        "id": "_UpOKxxY9H8q"
      },
      "execution_count": 155,
      "outputs": []
    },
    {
      "cell_type": "code",
      "source": [
        "aut_mob['peak-rpm'].fillna(method='bfill',inplace=True)"
      ],
      "metadata": {
        "id": "Sas3Z-FX9Ys2"
      },
      "execution_count": 49,
      "outputs": []
    },
    {
      "cell_type": "code",
      "source": [
        "aut_mob['bore'].fillna(method='bfill',inplace=True)"
      ],
      "metadata": {
        "id": "-AHlH6UIQ7eX"
      },
      "execution_count": 150,
      "outputs": []
    },
    {
      "cell_type": "code",
      "source": [
        ""
      ],
      "metadata": {
        "id": "La87QnV-Q7t6"
      },
      "execution_count": null,
      "outputs": []
    },
    {
      "cell_type": "code",
      "source": [
        "aut_mob['stroke'].fillna(method='ffill',inplace=True)"
      ],
      "metadata": {
        "id": "kS-CfPXA9jVx"
      },
      "execution_count": 50,
      "outputs": []
    },
    {
      "cell_type": "code",
      "source": [
        "aut_mob['make'].value_counts()"
      ],
      "metadata": {
        "colab": {
          "base_uri": "https://localhost:8080/"
        },
        "id": "rifaI0N1CWfq",
        "outputId": "fef27a26-a05f-4fa6-92fb-899c8c2933cf"
      },
      "execution_count": 58,
      "outputs": [
        {
          "output_type": "execute_result",
          "data": {
            "text/plain": [
              "toyota           32\n",
              "nissan           18\n",
              "mazda            17\n",
              "mitsubishi       13\n",
              "honda            13\n",
              "volkswagen       12\n",
              "subaru           12\n",
              "peugot           11\n",
              "volvo            11\n",
              "dodge             9\n",
              "mercedes-benz     8\n",
              "bmw               8\n",
              "audi              7\n",
              "plymouth          7\n",
              "saab              6\n",
              "porsche           5\n",
              "isuzu             4\n",
              "jaguar            3\n",
              "chevrolet         3\n",
              "alfa-romero       3\n",
              "renault           2\n",
              "mercury           1\n",
              "Name: make, dtype: int64"
            ]
          },
          "metadata": {},
          "execution_count": 58
        }
      ]
    },
    {
      "cell_type": "code",
      "source": [
        "label_encode=LabelEncoder()"
      ],
      "metadata": {
        "id": "dooNazPBCWm-"
      },
      "execution_count": 60,
      "outputs": []
    },
    {
      "cell_type": "code",
      "source": [
        "labels=label_encode.fit_transform(aut_mob['make'])"
      ],
      "metadata": {
        "id": "-89hOhW6CWrD"
      },
      "execution_count": 61,
      "outputs": []
    },
    {
      "cell_type": "code",
      "source": [
        "aut_mob['make_label']=labels"
      ],
      "metadata": {
        "id": "-Seu8YVpCWvB"
      },
      "execution_count": 63,
      "outputs": []
    },
    {
      "cell_type": "code",
      "source": [
        "aut_mob['fuel-type'].value_counts()"
      ],
      "metadata": {
        "colab": {
          "base_uri": "https://localhost:8080/"
        },
        "id": "OhQBZMRtCWzQ",
        "outputId": "938484bb-6199-4fae-b5b4-c3057e66571f"
      },
      "execution_count": 68,
      "outputs": [
        {
          "output_type": "execute_result",
          "data": {
            "text/plain": [
              "gas       185\n",
              "diesel     20\n",
              "Name: fuel-type, dtype: int64"
            ]
          },
          "metadata": {},
          "execution_count": 68
        }
      ]
    },
    {
      "cell_type": "code",
      "source": [
        "lab_ft=label_encode.fit_transform(aut_mob['fuel-type']) #gas=1,disel=0"
      ],
      "metadata": {
        "id": "BeBzgvgKFLTL"
      },
      "execution_count": 69,
      "outputs": []
    },
    {
      "cell_type": "code",
      "source": [
        "aut_mob['fuel_type_label']=lab_ft"
      ],
      "metadata": {
        "id": "T6TolLR4FLap"
      },
      "execution_count": 70,
      "outputs": []
    },
    {
      "cell_type": "code",
      "source": [
        "aut_mob.drop(['fuel-type'],axis='columns',inplace=True)"
      ],
      "metadata": {
        "id": "XurO1l8MFLgz"
      },
      "execution_count": 71,
      "outputs": []
    },
    {
      "cell_type": "code",
      "source": [
        "aut_mob['aspiration'].value_counts()"
      ],
      "metadata": {
        "colab": {
          "base_uri": "https://localhost:8080/"
        },
        "id": "BsMTcc9CFLmE",
        "outputId": "4b28af49-330b-4335-d892-dbb302633605"
      },
      "execution_count": 79,
      "outputs": [
        {
          "output_type": "execute_result",
          "data": {
            "text/plain": [
              "std      168\n",
              "turbo     37\n",
              "Name: aspiration, dtype: int64"
            ]
          },
          "metadata": {},
          "execution_count": 79
        }
      ]
    },
    {
      "cell_type": "code",
      "source": [
        "lab_asp=label_encode.fit_transform(aut_mob['aspiration']) # std=0 turbo=1"
      ],
      "metadata": {
        "id": "Wx-NiNwAFLqq"
      },
      "execution_count": 80,
      "outputs": []
    },
    {
      "cell_type": "code",
      "source": [
        "aut_mob['aspiration_label']=lab_asp"
      ],
      "metadata": {
        "id": "ygXsKhm8HUDp"
      },
      "execution_count": 81,
      "outputs": []
    },
    {
      "cell_type": "code",
      "source": [
        "aut_mob.drop(['aspiration'],axis='columns',inplace=True)"
      ],
      "metadata": {
        "id": "08YjK3EkHUKw"
      },
      "execution_count": 83,
      "outputs": []
    },
    {
      "cell_type": "code",
      "source": [
        "aut_mob[' num-of-doors'].value_counts()"
      ],
      "metadata": {
        "colab": {
          "base_uri": "https://localhost:8080/"
        },
        "id": "BUjVukShHUSe",
        "outputId": "dee71421-ecf7-4743-c431-33093ad787e4"
      },
      "execution_count": 86,
      "outputs": [
        {
          "output_type": "execute_result",
          "data": {
            "text/plain": [
              "four    114\n",
              "two      89\n",
              "Name:  num-of-doors, dtype: int64"
            ]
          },
          "metadata": {},
          "execution_count": 86
        }
      ]
    },
    {
      "cell_type": "code",
      "source": [
        "lab_nod=label_encode.fit_transform(aut_mob[' num-of-doors']) #two=1 , four=0"
      ],
      "metadata": {
        "id": "kWKOCenLHUZT"
      },
      "execution_count": 87,
      "outputs": []
    },
    {
      "cell_type": "code",
      "source": [
        "aut_mob[' number_of_doors_label']=lab_nod"
      ],
      "metadata": {
        "id": "vO4MqIpSHUti"
      },
      "execution_count": 91,
      "outputs": []
    },
    {
      "cell_type": "code",
      "source": [
        "aut_mob['body-style'].value_counts()"
      ],
      "metadata": {
        "colab": {
          "base_uri": "https://localhost:8080/"
        },
        "id": "lah3guyTLQMY",
        "outputId": "916cf516-e59e-455c-91b1-80df99ab458e"
      },
      "execution_count": 98,
      "outputs": [
        {
          "output_type": "execute_result",
          "data": {
            "text/plain": [
              "sedan          96\n",
              "hatchback      70\n",
              "wagon          25\n",
              "hardtop         8\n",
              "convertible     6\n",
              "Name: body-style, dtype: int64"
            ]
          },
          "metadata": {},
          "execution_count": 98
        }
      ]
    },
    {
      "cell_type": "code",
      "source": [
        "lab_bs=label_encode.fit_transform(aut_mob['body-style'])"
      ],
      "metadata": {
        "id": "BkszTf8LJk8T"
      },
      "execution_count": 100,
      "outputs": []
    },
    {
      "cell_type": "code",
      "source": [
        "aut_mob[' body_style_label']=lab_bs"
      ],
      "metadata": {
        "id": "8wXEZ7snJlMt"
      },
      "execution_count": 107,
      "outputs": []
    },
    {
      "cell_type": "code",
      "source": [
        "lab_dw=label_encode.fit_transform(aut_mob[' drive-wheels'])"
      ],
      "metadata": {
        "id": "KZ5SQNdtMLvD"
      },
      "execution_count": 109,
      "outputs": []
    },
    {
      "cell_type": "code",
      "source": [
        "aut_mob[' drive_wheel_label']=lab_dw"
      ],
      "metadata": {
        "id": "aW4ztmTzML9X"
      },
      "execution_count": 110,
      "outputs": []
    },
    {
      "cell_type": "code",
      "source": [
        "aut_mob['engine-location'].value_counts()"
      ],
      "metadata": {
        "colab": {
          "base_uri": "https://localhost:8080/"
        },
        "id": "hjO2HnYSMMMi",
        "outputId": "5c42aa80-a9fb-4d87-f3a5-454f1e1ed14f"
      },
      "execution_count": 113,
      "outputs": [
        {
          "output_type": "execute_result",
          "data": {
            "text/plain": [
              "front    202\n",
              "rear       3\n",
              "Name: engine-location, dtype: int64"
            ]
          },
          "metadata": {},
          "execution_count": 113
        }
      ]
    },
    {
      "cell_type": "code",
      "source": [
        "lab_el=label_encode.fit_transform(aut_mob['engine-location'])"
      ],
      "metadata": {
        "id": "sfj_utg4MMYp"
      },
      "execution_count": 114,
      "outputs": []
    },
    {
      "cell_type": "code",
      "source": [
        "aut_mob[' engine_location_label']=lab_el"
      ],
      "metadata": {
        "id": "_0-U8bStMMl5"
      },
      "execution_count": 115,
      "outputs": []
    },
    {
      "cell_type": "code",
      "source": [
        "aut_mob['fuel-system'].value_counts()"
      ],
      "metadata": {
        "colab": {
          "base_uri": "https://localhost:8080/"
        },
        "id": "taAYcoNMMM0c",
        "outputId": "9102c602-578f-4b15-d57e-92e121f2e7e5"
      },
      "execution_count": 118,
      "outputs": [
        {
          "output_type": "execute_result",
          "data": {
            "text/plain": [
              "mpfi    94\n",
              "2bbl    66\n",
              "idi     20\n",
              "1bbl    11\n",
              "spdi     9\n",
              "4bbl     3\n",
              "mfi      1\n",
              "spfi     1\n",
              "Name: fuel-system, dtype: int64"
            ]
          },
          "metadata": {},
          "execution_count": 118
        }
      ]
    },
    {
      "cell_type": "code",
      "source": [
        "lab_fs=label_encode.fit_transform(aut_mob['fuel-system'])"
      ],
      "metadata": {
        "id": "31U89wugN1bX"
      },
      "execution_count": 119,
      "outputs": []
    },
    {
      "cell_type": "code",
      "source": [
        "aut_mob['fuel_system_label']=lab_fs"
      ],
      "metadata": {
        "id": "oDmIO0SvN1pH"
      },
      "execution_count": 120,
      "outputs": []
    },
    {
      "cell_type": "code",
      "source": [
        "aut_mob['engine-type'].value_counts()"
      ],
      "metadata": {
        "colab": {
          "base_uri": "https://localhost:8080/"
        },
        "id": "EJFYOHTIPDSt",
        "outputId": "27750089-7ad1-4bd3-e099-979de9c6fd38"
      },
      "execution_count": 131,
      "outputs": [
        {
          "output_type": "execute_result",
          "data": {
            "text/plain": [
              "ohc      148\n",
              "ohcf      15\n",
              "ohcv      13\n",
              "dohc      12\n",
              "l         12\n",
              "rotor      4\n",
              "dohcv      1\n",
              "Name: engine-type, dtype: int64"
            ]
          },
          "metadata": {},
          "execution_count": 131
        }
      ]
    },
    {
      "cell_type": "code",
      "source": [
        "lab_et=label_encode.fit_transform(aut_mob['engine-type'])"
      ],
      "metadata": {
        "id": "Yzq3GbI7PDhm"
      },
      "execution_count": 133,
      "outputs": []
    },
    {
      "cell_type": "code",
      "source": [
        "aut_mob['engine_type_label']=lab_et"
      ],
      "metadata": {
        "id": "FzU2TXu7PDrg"
      },
      "execution_count": 134,
      "outputs": []
    },
    {
      "cell_type": "code",
      "source": [
        "aut_mob.drop(['engine-type'],axis=1,inplace=True)"
      ],
      "metadata": {
        "id": "LEESbaYiPDz6"
      },
      "execution_count": 135,
      "outputs": []
    },
    {
      "cell_type": "code",
      "source": [
        "lab_noc=label_encode.fit_transform(aut_mob['num-of-cylinders'])"
      ],
      "metadata": {
        "id": "NjjlT0fDPD5D"
      },
      "execution_count": 136,
      "outputs": []
    },
    {
      "cell_type": "code",
      "source": [
        "aut_mob['num-of-cylinders_label']=lab_noc"
      ],
      "metadata": {
        "id": "wjuOzapyPD-O"
      },
      "execution_count": 137,
      "outputs": []
    },
    {
      "cell_type": "code",
      "source": [
        "aut_mob.drop(['num-of-cylinders'],axis=1,inplace=True)"
      ],
      "metadata": {
        "id": "IKE13akJPEDW"
      },
      "execution_count": 138,
      "outputs": []
    },
    {
      "cell_type": "code",
      "source": [
        ""
      ],
      "metadata": {
        "id": "eP8nVwS9PEI0"
      },
      "execution_count": null,
      "outputs": []
    },
    {
      "cell_type": "code",
      "source": [
        ""
      ],
      "metadata": {
        "id": "ZABG50M4PEPb"
      },
      "execution_count": null,
      "outputs": []
    },
    {
      "cell_type": "code",
      "source": [
        ""
      ],
      "metadata": {
        "id": "MGPtvnbuPEV0"
      },
      "execution_count": null,
      "outputs": []
    },
    {
      "cell_type": "code",
      "source": [
        "aut_mob.drop(['fuel-system'],axis=1,inplace=True)"
      ],
      "metadata": {
        "id": "UX4vqtn_CW36"
      },
      "execution_count": 121,
      "outputs": []
    },
    {
      "cell_type": "code",
      "source": [
        "scaler=StandardScaler()\n",
        "scaler.fit_transform(X)"
      ],
      "metadata": {
        "colab": {
          "base_uri": "https://localhost:8080/"
        },
        "id": "IcyVZORHTTHY",
        "outputId": "563f86da-5d9a-496a-c597-43b29353fba1"
      },
      "execution_count": 176,
      "outputs": [
        {
          "output_type": "execute_result",
          "data": {
            "text/plain": [
              "array([[ 1.74347043,  1.06455918, -1.6907718 , ...,  0.8695675 ,\n",
              "        -2.86510549, -0.14747536],\n",
              "       [ 1.74347043,  1.06455918, -1.6907718 , ...,  0.8695675 ,\n",
              "        -2.86510549, -0.14747536],\n",
              "       [ 0.133509  ,  1.06455918, -0.70859588, ...,  0.8695675 ,\n",
              "         1.88688986,  1.11220997],\n",
              "       ...,\n",
              "       [-1.47645244, -0.88724764,  1.72187336, ...,  0.8695675 ,\n",
              "         1.88688986,  1.11220997],\n",
              "       [-1.47645244, -0.88724764,  1.72187336, ..., -0.12630589,\n",
              "        -0.01390828,  1.11220997],\n",
              "       [-1.47645244, -0.88724764,  1.72187336, ...,  0.8695675 ,\n",
              "        -0.01390828, -0.14747536]])"
            ]
          },
          "metadata": {},
          "execution_count": 176
        }
      ]
    },
    {
      "cell_type": "code",
      "source": [
        "X=aut_mob.drop('price',axis='columns')\n",
        "y=aut_mob.price"
      ],
      "metadata": {
        "id": "chjkSn4q1_zN"
      },
      "execution_count": 166,
      "outputs": []
    },
    {
      "cell_type": "code",
      "source": [
        "X.head()"
      ],
      "metadata": {
        "colab": {
          "base_uri": "https://localhost:8080/",
          "height": 317
        },
        "id": "XutRWhborg8e",
        "outputId": "fc3a1acf-cdd2-4fb8-96c6-852617130541"
      },
      "execution_count": 167,
      "outputs": [
        {
          "output_type": "execute_result",
          "data": {
            "text/plain": [
              "   symboling   normalized-losses  wheel-base  length  width  height  \\\n",
              "0          3               164.0        88.6   168.8   64.1    48.8   \n",
              "1          3               164.0        88.6   168.8   64.1    48.8   \n",
              "2          1               164.0        94.5   171.2   65.5    52.4   \n",
              "3          2               164.0        99.8   176.6   66.2    54.3   \n",
              "4          2               164.0        99.4   176.6   66.4    54.3   \n",
              "\n",
              "   curb-weight  engine-size  bore  stroke  ...  make_label  fuel_type_label  \\\n",
              "0         2548          130  3.47    2.68  ...           0                1   \n",
              "1         2548          130  3.47    2.68  ...           0                1   \n",
              "2         2823          152  2.68    3.47  ...           0                1   \n",
              "3         2337          109  3.19    3.40  ...           1                1   \n",
              "4         2824          136  3.19    3.40  ...           1                1   \n",
              "\n",
              "   aspiration_label   number_of_doors_label   body_style_label  \\\n",
              "0                 0                       1                  0   \n",
              "1                 0                       1                  0   \n",
              "2                 0                       1                  2   \n",
              "3                 0                       0                  3   \n",
              "4                 0                       0                  3   \n",
              "\n",
              "    drive_wheel_label   engine_location_label  fuel_system_label  \\\n",
              "0                   2                       0                  5   \n",
              "1                   2                       0                  5   \n",
              "2                   2                       0                  5   \n",
              "3                   1                       0                  5   \n",
              "4                   0                       0                  5   \n",
              "\n",
              "   engine_type_label  num-of-cylinders_label  \n",
              "0                  0                       2  \n",
              "1                  0                       2  \n",
              "2                  5                       3  \n",
              "3                  3                       2  \n",
              "4                  3                       1  \n",
              "\n",
              "[5 rows x 25 columns]"
            ],
            "text/html": [
              "\n",
              "  <div id=\"df-f0c74751-2e11-4d6d-818b-df55274c1b12\">\n",
              "    <div class=\"colab-df-container\">\n",
              "      <div>\n",
              "<style scoped>\n",
              "    .dataframe tbody tr th:only-of-type {\n",
              "        vertical-align: middle;\n",
              "    }\n",
              "\n",
              "    .dataframe tbody tr th {\n",
              "        vertical-align: top;\n",
              "    }\n",
              "\n",
              "    .dataframe thead th {\n",
              "        text-align: right;\n",
              "    }\n",
              "</style>\n",
              "<table border=\"1\" class=\"dataframe\">\n",
              "  <thead>\n",
              "    <tr style=\"text-align: right;\">\n",
              "      <th></th>\n",
              "      <th>symboling</th>\n",
              "      <th>normalized-losses</th>\n",
              "      <th>wheel-base</th>\n",
              "      <th>length</th>\n",
              "      <th>width</th>\n",
              "      <th>height</th>\n",
              "      <th>curb-weight</th>\n",
              "      <th>engine-size</th>\n",
              "      <th>bore</th>\n",
              "      <th>stroke</th>\n",
              "      <th>...</th>\n",
              "      <th>make_label</th>\n",
              "      <th>fuel_type_label</th>\n",
              "      <th>aspiration_label</th>\n",
              "      <th>number_of_doors_label</th>\n",
              "      <th>body_style_label</th>\n",
              "      <th>drive_wheel_label</th>\n",
              "      <th>engine_location_label</th>\n",
              "      <th>fuel_system_label</th>\n",
              "      <th>engine_type_label</th>\n",
              "      <th>num-of-cylinders_label</th>\n",
              "    </tr>\n",
              "  </thead>\n",
              "  <tbody>\n",
              "    <tr>\n",
              "      <th>0</th>\n",
              "      <td>3</td>\n",
              "      <td>164.0</td>\n",
              "      <td>88.6</td>\n",
              "      <td>168.8</td>\n",
              "      <td>64.1</td>\n",
              "      <td>48.8</td>\n",
              "      <td>2548</td>\n",
              "      <td>130</td>\n",
              "      <td>3.47</td>\n",
              "      <td>2.68</td>\n",
              "      <td>...</td>\n",
              "      <td>0</td>\n",
              "      <td>1</td>\n",
              "      <td>0</td>\n",
              "      <td>1</td>\n",
              "      <td>0</td>\n",
              "      <td>2</td>\n",
              "      <td>0</td>\n",
              "      <td>5</td>\n",
              "      <td>0</td>\n",
              "      <td>2</td>\n",
              "    </tr>\n",
              "    <tr>\n",
              "      <th>1</th>\n",
              "      <td>3</td>\n",
              "      <td>164.0</td>\n",
              "      <td>88.6</td>\n",
              "      <td>168.8</td>\n",
              "      <td>64.1</td>\n",
              "      <td>48.8</td>\n",
              "      <td>2548</td>\n",
              "      <td>130</td>\n",
              "      <td>3.47</td>\n",
              "      <td>2.68</td>\n",
              "      <td>...</td>\n",
              "      <td>0</td>\n",
              "      <td>1</td>\n",
              "      <td>0</td>\n",
              "      <td>1</td>\n",
              "      <td>0</td>\n",
              "      <td>2</td>\n",
              "      <td>0</td>\n",
              "      <td>5</td>\n",
              "      <td>0</td>\n",
              "      <td>2</td>\n",
              "    </tr>\n",
              "    <tr>\n",
              "      <th>2</th>\n",
              "      <td>1</td>\n",
              "      <td>164.0</td>\n",
              "      <td>94.5</td>\n",
              "      <td>171.2</td>\n",
              "      <td>65.5</td>\n",
              "      <td>52.4</td>\n",
              "      <td>2823</td>\n",
              "      <td>152</td>\n",
              "      <td>2.68</td>\n",
              "      <td>3.47</td>\n",
              "      <td>...</td>\n",
              "      <td>0</td>\n",
              "      <td>1</td>\n",
              "      <td>0</td>\n",
              "      <td>1</td>\n",
              "      <td>2</td>\n",
              "      <td>2</td>\n",
              "      <td>0</td>\n",
              "      <td>5</td>\n",
              "      <td>5</td>\n",
              "      <td>3</td>\n",
              "    </tr>\n",
              "    <tr>\n",
              "      <th>3</th>\n",
              "      <td>2</td>\n",
              "      <td>164.0</td>\n",
              "      <td>99.8</td>\n",
              "      <td>176.6</td>\n",
              "      <td>66.2</td>\n",
              "      <td>54.3</td>\n",
              "      <td>2337</td>\n",
              "      <td>109</td>\n",
              "      <td>3.19</td>\n",
              "      <td>3.40</td>\n",
              "      <td>...</td>\n",
              "      <td>1</td>\n",
              "      <td>1</td>\n",
              "      <td>0</td>\n",
              "      <td>0</td>\n",
              "      <td>3</td>\n",
              "      <td>1</td>\n",
              "      <td>0</td>\n",
              "      <td>5</td>\n",
              "      <td>3</td>\n",
              "      <td>2</td>\n",
              "    </tr>\n",
              "    <tr>\n",
              "      <th>4</th>\n",
              "      <td>2</td>\n",
              "      <td>164.0</td>\n",
              "      <td>99.4</td>\n",
              "      <td>176.6</td>\n",
              "      <td>66.4</td>\n",
              "      <td>54.3</td>\n",
              "      <td>2824</td>\n",
              "      <td>136</td>\n",
              "      <td>3.19</td>\n",
              "      <td>3.40</td>\n",
              "      <td>...</td>\n",
              "      <td>1</td>\n",
              "      <td>1</td>\n",
              "      <td>0</td>\n",
              "      <td>0</td>\n",
              "      <td>3</td>\n",
              "      <td>0</td>\n",
              "      <td>0</td>\n",
              "      <td>5</td>\n",
              "      <td>3</td>\n",
              "      <td>1</td>\n",
              "    </tr>\n",
              "  </tbody>\n",
              "</table>\n",
              "<p>5 rows × 25 columns</p>\n",
              "</div>\n",
              "      <button class=\"colab-df-convert\" onclick=\"convertToInteractive('df-f0c74751-2e11-4d6d-818b-df55274c1b12')\"\n",
              "              title=\"Convert this dataframe to an interactive table.\"\n",
              "              style=\"display:none;\">\n",
              "        \n",
              "  <svg xmlns=\"http://www.w3.org/2000/svg\" height=\"24px\"viewBox=\"0 0 24 24\"\n",
              "       width=\"24px\">\n",
              "    <path d=\"M0 0h24v24H0V0z\" fill=\"none\"/>\n",
              "    <path d=\"M18.56 5.44l.94 2.06.94-2.06 2.06-.94-2.06-.94-.94-2.06-.94 2.06-2.06.94zm-11 1L8.5 8.5l.94-2.06 2.06-.94-2.06-.94L8.5 2.5l-.94 2.06-2.06.94zm10 10l.94 2.06.94-2.06 2.06-.94-2.06-.94-.94-2.06-.94 2.06-2.06.94z\"/><path d=\"M17.41 7.96l-1.37-1.37c-.4-.4-.92-.59-1.43-.59-.52 0-1.04.2-1.43.59L10.3 9.45l-7.72 7.72c-.78.78-.78 2.05 0 2.83L4 21.41c.39.39.9.59 1.41.59.51 0 1.02-.2 1.41-.59l7.78-7.78 2.81-2.81c.8-.78.8-2.07 0-2.86zM5.41 20L4 18.59l7.72-7.72 1.47 1.35L5.41 20z\"/>\n",
              "  </svg>\n",
              "      </button>\n",
              "      \n",
              "  <style>\n",
              "    .colab-df-container {\n",
              "      display:flex;\n",
              "      flex-wrap:wrap;\n",
              "      gap: 12px;\n",
              "    }\n",
              "\n",
              "    .colab-df-convert {\n",
              "      background-color: #E8F0FE;\n",
              "      border: none;\n",
              "      border-radius: 50%;\n",
              "      cursor: pointer;\n",
              "      display: none;\n",
              "      fill: #1967D2;\n",
              "      height: 32px;\n",
              "      padding: 0 0 0 0;\n",
              "      width: 32px;\n",
              "    }\n",
              "\n",
              "    .colab-df-convert:hover {\n",
              "      background-color: #E2EBFA;\n",
              "      box-shadow: 0px 1px 2px rgba(60, 64, 67, 0.3), 0px 1px 3px 1px rgba(60, 64, 67, 0.15);\n",
              "      fill: #174EA6;\n",
              "    }\n",
              "\n",
              "    [theme=dark] .colab-df-convert {\n",
              "      background-color: #3B4455;\n",
              "      fill: #D2E3FC;\n",
              "    }\n",
              "\n",
              "    [theme=dark] .colab-df-convert:hover {\n",
              "      background-color: #434B5C;\n",
              "      box-shadow: 0px 1px 3px 1px rgba(0, 0, 0, 0.15);\n",
              "      filter: drop-shadow(0px 1px 2px rgba(0, 0, 0, 0.3));\n",
              "      fill: #FFFFFF;\n",
              "    }\n",
              "  </style>\n",
              "\n",
              "      <script>\n",
              "        const buttonEl =\n",
              "          document.querySelector('#df-f0c74751-2e11-4d6d-818b-df55274c1b12 button.colab-df-convert');\n",
              "        buttonEl.style.display =\n",
              "          google.colab.kernel.accessAllowed ? 'block' : 'none';\n",
              "\n",
              "        async function convertToInteractive(key) {\n",
              "          const element = document.querySelector('#df-f0c74751-2e11-4d6d-818b-df55274c1b12');\n",
              "          const dataTable =\n",
              "            await google.colab.kernel.invokeFunction('convertToInteractive',\n",
              "                                                     [key], {});\n",
              "          if (!dataTable) return;\n",
              "\n",
              "          const docLinkHtml = 'Like what you see? Visit the ' +\n",
              "            '<a target=\"_blank\" href=https://colab.research.google.com/notebooks/data_table.ipynb>data table notebook</a>'\n",
              "            + ' to learn more about interactive tables.';\n",
              "          element.innerHTML = '';\n",
              "          dataTable['output_type'] = 'display_data';\n",
              "          await google.colab.output.renderOutput(dataTable, element);\n",
              "          const docLink = document.createElement('div');\n",
              "          docLink.innerHTML = docLinkHtml;\n",
              "          element.appendChild(docLink);\n",
              "        }\n",
              "      </script>\n",
              "    </div>\n",
              "  </div>\n",
              "  "
            ]
          },
          "metadata": {},
          "execution_count": 167
        }
      ]
    },
    {
      "cell_type": "code",
      "source": [
        "X_train, X_test, y_train, y_test = train_test_split(X,y,test_size=0.2)"
      ],
      "metadata": {
        "id": "PN2rvVO8tMWw"
      },
      "execution_count": 168,
      "outputs": []
    },
    {
      "cell_type": "code",
      "source": [
        "len(X_train)"
      ],
      "metadata": {
        "colab": {
          "base_uri": "https://localhost:8080/"
        },
        "id": "jXnH7YL6uy96",
        "outputId": "6fd816f0-695f-41ae-e72e-803386f3aa86"
      },
      "execution_count": 169,
      "outputs": [
        {
          "output_type": "execute_result",
          "data": {
            "text/plain": [
              "164"
            ]
          },
          "metadata": {},
          "execution_count": 169
        }
      ]
    },
    {
      "cell_type": "code",
      "source": [
        "len(X_test)"
      ],
      "metadata": {
        "colab": {
          "base_uri": "https://localhost:8080/"
        },
        "id": "qm3TElu0x-16",
        "outputId": "6623f162-b880-49a5-db13-d085513164ed"
      },
      "execution_count": 170,
      "outputs": [
        {
          "output_type": "execute_result",
          "data": {
            "text/plain": [
              "41"
            ]
          },
          "metadata": {},
          "execution_count": 170
        }
      ]
    },
    {
      "cell_type": "code",
      "source": [
        "model=SVC()"
      ],
      "metadata": {
        "id": "upZcWBCi3JU9"
      },
      "execution_count": 171,
      "outputs": []
    },
    {
      "cell_type": "code",
      "source": [
        "model.fit(X_train, y_train)"
      ],
      "metadata": {
        "colab": {
          "base_uri": "https://localhost:8080/"
        },
        "id": "uv0A-Rjx3QY6",
        "outputId": "dcd23ad7-2cc2-4db7-e96e-12f93c2f029e"
      },
      "execution_count": 177,
      "outputs": [
        {
          "output_type": "execute_result",
          "data": {
            "text/plain": [
              "SVC()"
            ]
          },
          "metadata": {},
          "execution_count": 177
        }
      ]
    },
    {
      "cell_type": "code",
      "source": [
        "model.score(X_test, y_test)"
      ],
      "metadata": {
        "colab": {
          "base_uri": "https://localhost:8080/"
        },
        "id": "bQH9ZJTnT_Dy",
        "outputId": "1c4151dd-7cdd-4a5d-ae7e-b9137751d3a4"
      },
      "execution_count": 174,
      "outputs": [
        {
          "output_type": "execute_result",
          "data": {
            "text/plain": [
              "0.0"
            ]
          },
          "metadata": {},
          "execution_count": 174
        }
      ]
    },
    {
      "cell_type": "code",
      "source": [
        "from sklearn.ensemble import BaggingClassifier"
      ],
      "metadata": {
        "id": "ai7gPMEGVDXW"
      },
      "execution_count": 178,
      "outputs": []
    },
    {
      "cell_type": "code",
      "source": [
        "bag_model=BaggingClassifier(\n",
        "    base_estimator=SVC(),\n",
        "    n_estimators=70,\n",
        "    max_samples=0.8,\n",
        "    oob_score=True,\n",
        "    random_state=0 )\n",
        "\n",
        "bag_model.fit(X_train,y_train)\n",
        "bag_model.oob_score_"
      ],
      "metadata": {
        "colab": {
          "base_uri": "https://localhost:8080/"
        },
        "id": "cDnlAX6zVwP5",
        "outputId": "9cf3a1b7-ebda-4bc5-b115-7c3f742ea6d0"
      },
      "execution_count": 179,
      "outputs": [
        {
          "output_type": "execute_result",
          "data": {
            "text/plain": [
              "0.0"
            ]
          },
          "metadata": {},
          "execution_count": 179
        }
      ]
    },
    {
      "cell_type": "code",
      "source": [
        "from sklearn.ensemble import AdaBoostRegressor"
      ],
      "metadata": {
        "id": "8oTiuxS_ZUff"
      },
      "execution_count": 180,
      "outputs": []
    },
    {
      "cell_type": "code",
      "source": [
        "Adamodel=AdaBoostRegressor(n_estimators=50,learning_rate=1)"
      ],
      "metadata": {
        "id": "bKT98HBPZqgv"
      },
      "execution_count": 182,
      "outputs": []
    },
    {
      "cell_type": "code",
      "source": [
        "model=Adamodel.fit(X_train,y_train)"
      ],
      "metadata": {
        "id": "98Y5OaqTaInA"
      },
      "execution_count": 183,
      "outputs": []
    },
    {
      "cell_type": "code",
      "source": [
        "model.score(X_test,y_test)"
      ],
      "metadata": {
        "colab": {
          "base_uri": "https://localhost:8080/"
        },
        "id": "6s3usZl6ak7E",
        "outputId": "cbcf9afb-6776-47fe-b818-a9ede8eccaf4"
      },
      "execution_count": 191,
      "outputs": [
        {
          "output_type": "execute_result",
          "data": {
            "text/plain": [
              "0.9159714789886189"
            ]
          },
          "metadata": {},
          "execution_count": 191
        }
      ]
    }
  ]
}