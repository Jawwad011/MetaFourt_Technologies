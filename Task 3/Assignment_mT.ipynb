{
  "nbformat": 4,
  "nbformat_minor": 0,
  "metadata": {
    "colab": {
      "name": "Assignment mT.ipynb",
      "provenance": [],
      "collapsed_sections": []
    },
    "kernelspec": {
      "name": "python3",
      "display_name": "Python 3"
    },
    "language_info": {
      "name": "python"
    }
  },
  "cells": [
    {
      "cell_type": "code",
      "execution_count": 3,
      "metadata": {
        "id": "2KyD1epCJ-zB"
      },
      "outputs": [],
      "source": [
        "import numpy as np\n",
        "import pandas as pd\n",
        "import matplotlib.pyplot as plt\n"
      ]
    },
    {
      "cell_type": "code",
      "source": [
        "data=pd.read_csv(\"/content/drug200.csv\")"
      ],
      "metadata": {
        "id": "Xe7XifwIKGE2"
      },
      "execution_count": 4,
      "outputs": []
    },
    {
      "cell_type": "code",
      "source": [
        "data.head()"
      ],
      "metadata": {
        "colab": {
          "base_uri": "https://localhost:8080/",
          "height": 206
        },
        "id": "y-jD_jw1KGMt",
        "outputId": "3a6633f0-db16-4d52-f3f8-c12a5ca7ea23"
      },
      "execution_count": 5,
      "outputs": [
        {
          "output_type": "execute_result",
          "data": {
            "text/plain": [
              "   Age Sex      BP Cholesterol  Na_to_K   Drug\n",
              "0   23   F    HIGH        HIGH   25.355  DrugY\n",
              "1   47   M     LOW        HIGH   13.093  drugC\n",
              "2   47   M     LOW        HIGH   10.114  drugC\n",
              "3   28   F  NORMAL        HIGH    7.798  drugX\n",
              "4   61   F     LOW        HIGH   18.043  DrugY"
            ],
            "text/html": [
              "\n",
              "  <div id=\"df-7a569718-b5aa-4187-910c-19e4c7d305e6\">\n",
              "    <div class=\"colab-df-container\">\n",
              "      <div>\n",
              "<style scoped>\n",
              "    .dataframe tbody tr th:only-of-type {\n",
              "        vertical-align: middle;\n",
              "    }\n",
              "\n",
              "    .dataframe tbody tr th {\n",
              "        vertical-align: top;\n",
              "    }\n",
              "\n",
              "    .dataframe thead th {\n",
              "        text-align: right;\n",
              "    }\n",
              "</style>\n",
              "<table border=\"1\" class=\"dataframe\">\n",
              "  <thead>\n",
              "    <tr style=\"text-align: right;\">\n",
              "      <th></th>\n",
              "      <th>Age</th>\n",
              "      <th>Sex</th>\n",
              "      <th>BP</th>\n",
              "      <th>Cholesterol</th>\n",
              "      <th>Na_to_K</th>\n",
              "      <th>Drug</th>\n",
              "    </tr>\n",
              "  </thead>\n",
              "  <tbody>\n",
              "    <tr>\n",
              "      <th>0</th>\n",
              "      <td>23</td>\n",
              "      <td>F</td>\n",
              "      <td>HIGH</td>\n",
              "      <td>HIGH</td>\n",
              "      <td>25.355</td>\n",
              "      <td>DrugY</td>\n",
              "    </tr>\n",
              "    <tr>\n",
              "      <th>1</th>\n",
              "      <td>47</td>\n",
              "      <td>M</td>\n",
              "      <td>LOW</td>\n",
              "      <td>HIGH</td>\n",
              "      <td>13.093</td>\n",
              "      <td>drugC</td>\n",
              "    </tr>\n",
              "    <tr>\n",
              "      <th>2</th>\n",
              "      <td>47</td>\n",
              "      <td>M</td>\n",
              "      <td>LOW</td>\n",
              "      <td>HIGH</td>\n",
              "      <td>10.114</td>\n",
              "      <td>drugC</td>\n",
              "    </tr>\n",
              "    <tr>\n",
              "      <th>3</th>\n",
              "      <td>28</td>\n",
              "      <td>F</td>\n",
              "      <td>NORMAL</td>\n",
              "      <td>HIGH</td>\n",
              "      <td>7.798</td>\n",
              "      <td>drugX</td>\n",
              "    </tr>\n",
              "    <tr>\n",
              "      <th>4</th>\n",
              "      <td>61</td>\n",
              "      <td>F</td>\n",
              "      <td>LOW</td>\n",
              "      <td>HIGH</td>\n",
              "      <td>18.043</td>\n",
              "      <td>DrugY</td>\n",
              "    </tr>\n",
              "  </tbody>\n",
              "</table>\n",
              "</div>\n",
              "      <button class=\"colab-df-convert\" onclick=\"convertToInteractive('df-7a569718-b5aa-4187-910c-19e4c7d305e6')\"\n",
              "              title=\"Convert this dataframe to an interactive table.\"\n",
              "              style=\"display:none;\">\n",
              "        \n",
              "  <svg xmlns=\"http://www.w3.org/2000/svg\" height=\"24px\"viewBox=\"0 0 24 24\"\n",
              "       width=\"24px\">\n",
              "    <path d=\"M0 0h24v24H0V0z\" fill=\"none\"/>\n",
              "    <path d=\"M18.56 5.44l.94 2.06.94-2.06 2.06-.94-2.06-.94-.94-2.06-.94 2.06-2.06.94zm-11 1L8.5 8.5l.94-2.06 2.06-.94-2.06-.94L8.5 2.5l-.94 2.06-2.06.94zm10 10l.94 2.06.94-2.06 2.06-.94-2.06-.94-.94-2.06-.94 2.06-2.06.94z\"/><path d=\"M17.41 7.96l-1.37-1.37c-.4-.4-.92-.59-1.43-.59-.52 0-1.04.2-1.43.59L10.3 9.45l-7.72 7.72c-.78.78-.78 2.05 0 2.83L4 21.41c.39.39.9.59 1.41.59.51 0 1.02-.2 1.41-.59l7.78-7.78 2.81-2.81c.8-.78.8-2.07 0-2.86zM5.41 20L4 18.59l7.72-7.72 1.47 1.35L5.41 20z\"/>\n",
              "  </svg>\n",
              "      </button>\n",
              "      \n",
              "  <style>\n",
              "    .colab-df-container {\n",
              "      display:flex;\n",
              "      flex-wrap:wrap;\n",
              "      gap: 12px;\n",
              "    }\n",
              "\n",
              "    .colab-df-convert {\n",
              "      background-color: #E8F0FE;\n",
              "      border: none;\n",
              "      border-radius: 50%;\n",
              "      cursor: pointer;\n",
              "      display: none;\n",
              "      fill: #1967D2;\n",
              "      height: 32px;\n",
              "      padding: 0 0 0 0;\n",
              "      width: 32px;\n",
              "    }\n",
              "\n",
              "    .colab-df-convert:hover {\n",
              "      background-color: #E2EBFA;\n",
              "      box-shadow: 0px 1px 2px rgba(60, 64, 67, 0.3), 0px 1px 3px 1px rgba(60, 64, 67, 0.15);\n",
              "      fill: #174EA6;\n",
              "    }\n",
              "\n",
              "    [theme=dark] .colab-df-convert {\n",
              "      background-color: #3B4455;\n",
              "      fill: #D2E3FC;\n",
              "    }\n",
              "\n",
              "    [theme=dark] .colab-df-convert:hover {\n",
              "      background-color: #434B5C;\n",
              "      box-shadow: 0px 1px 3px 1px rgba(0, 0, 0, 0.15);\n",
              "      filter: drop-shadow(0px 1px 2px rgba(0, 0, 0, 0.3));\n",
              "      fill: #FFFFFF;\n",
              "    }\n",
              "  </style>\n",
              "\n",
              "      <script>\n",
              "        const buttonEl =\n",
              "          document.querySelector('#df-7a569718-b5aa-4187-910c-19e4c7d305e6 button.colab-df-convert');\n",
              "        buttonEl.style.display =\n",
              "          google.colab.kernel.accessAllowed ? 'block' : 'none';\n",
              "\n",
              "        async function convertToInteractive(key) {\n",
              "          const element = document.querySelector('#df-7a569718-b5aa-4187-910c-19e4c7d305e6');\n",
              "          const dataTable =\n",
              "            await google.colab.kernel.invokeFunction('convertToInteractive',\n",
              "                                                     [key], {});\n",
              "          if (!dataTable) return;\n",
              "\n",
              "          const docLinkHtml = 'Like what you see? Visit the ' +\n",
              "            '<a target=\"_blank\" href=https://colab.research.google.com/notebooks/data_table.ipynb>data table notebook</a>'\n",
              "            + ' to learn more about interactive tables.';\n",
              "          element.innerHTML = '';\n",
              "          dataTable['output_type'] = 'display_data';\n",
              "          await google.colab.output.renderOutput(dataTable, element);\n",
              "          const docLink = document.createElement('div');\n",
              "          docLink.innerHTML = docLinkHtml;\n",
              "          element.appendChild(docLink);\n",
              "        }\n",
              "      </script>\n",
              "    </div>\n",
              "  </div>\n",
              "  "
            ]
          },
          "metadata": {},
          "execution_count": 5
        }
      ]
    },
    {
      "cell_type": "code",
      "source": [
        "data.shape"
      ],
      "metadata": {
        "colab": {
          "base_uri": "https://localhost:8080/"
        },
        "id": "fCz-XJTqKGV8",
        "outputId": "7da8a1eb-0264-42ff-cb93-8fc948b93fa1"
      },
      "execution_count": 6,
      "outputs": [
        {
          "output_type": "execute_result",
          "data": {
            "text/plain": [
              "(200, 6)"
            ]
          },
          "metadata": {},
          "execution_count": 6
        }
      ]
    },
    {
      "cell_type": "code",
      "source": [
        "from sklearn.preprocessing import LabelEncoder"
      ],
      "metadata": {
        "id": "dgEiuDJ3KGf9"
      },
      "execution_count": 7,
      "outputs": []
    },
    {
      "cell_type": "code",
      "source": [
        "label=LabelEncoder()"
      ],
      "metadata": {
        "id": "mwEo82vhKGnt"
      },
      "execution_count": 8,
      "outputs": []
    },
    {
      "cell_type": "code",
      "source": [
        "data['Sex_numeric_value']=label.fit_transform(data['Sex'])"
      ],
      "metadata": {
        "id": "UegqRJOTKGvQ"
      },
      "execution_count": 9,
      "outputs": []
    },
    {
      "cell_type": "code",
      "source": [
        "data['Sex_numeric_value'].value_counts() # 0=Female # 1=male  "
      ],
      "metadata": {
        "colab": {
          "base_uri": "https://localhost:8080/"
        },
        "id": "VWP9BkQJKG3C",
        "outputId": "1430f1d9-cd5c-44ff-a05f-ce46c2e510c1"
      },
      "execution_count": 10,
      "outputs": [
        {
          "output_type": "execute_result",
          "data": {
            "text/plain": [
              "1    104\n",
              "0     96\n",
              "Name: Sex_numeric_value, dtype: int64"
            ]
          },
          "metadata": {},
          "execution_count": 10
        }
      ]
    },
    {
      "cell_type": "code",
      "source": [
        "data['BP_numeric_values']=label.fit_transform(data['BP'])"
      ],
      "metadata": {
        "id": "MpD_M6C9KG90"
      },
      "execution_count": 11,
      "outputs": []
    },
    {
      "cell_type": "code",
      "source": [
        "data['BP_numeric_values'].value_counts() # High=0 #Low=1 #Normal=2"
      ],
      "metadata": {
        "colab": {
          "base_uri": "https://localhost:8080/"
        },
        "id": "OgiAVh_uKHFj",
        "outputId": "0d1780e4-1c69-4999-ac86-be886697de0e"
      },
      "execution_count": 12,
      "outputs": [
        {
          "output_type": "execute_result",
          "data": {
            "text/plain": [
              "0    77\n",
              "1    64\n",
              "2    59\n",
              "Name: BP_numeric_values, dtype: int64"
            ]
          },
          "metadata": {},
          "execution_count": 12
        }
      ]
    },
    {
      "cell_type": "code",
      "source": [
        "data['Cholesterol_numeric_value']=label.fit_transform(data['Cholesterol'])"
      ],
      "metadata": {
        "id": "hbxryglHKHOj"
      },
      "execution_count": 13,
      "outputs": []
    },
    {
      "cell_type": "code",
      "source": [
        "data['Cholesterol_numeric_value'].value_counts() #High=0 #Normal=1"
      ],
      "metadata": {
        "colab": {
          "base_uri": "https://localhost:8080/"
        },
        "id": "uf3ZedhgKuUp",
        "outputId": "ccac786e-07ea-4608-f2ed-ced21ff1eb9f"
      },
      "execution_count": 14,
      "outputs": [
        {
          "output_type": "execute_result",
          "data": {
            "text/plain": [
              "0    103\n",
              "1     97\n",
              "Name: Cholesterol_numeric_value, dtype: int64"
            ]
          },
          "metadata": {},
          "execution_count": 14
        }
      ]
    },
    {
      "cell_type": "code",
      "source": [
        "data['Drug_Type']=label.fit_transform(data['Drug'])"
      ],
      "metadata": {
        "id": "OlnivNMCKuZp"
      },
      "execution_count": 15,
      "outputs": []
    },
    {
      "cell_type": "code",
      "source": [
        "data['Drug_Type'].value_counts() # Drug A ,B ,C, X, Y "
      ],
      "metadata": {
        "colab": {
          "base_uri": "https://localhost:8080/"
        },
        "id": "7JWJ-cAWKufH",
        "outputId": "cba70d53-26a6-4bb8-ccea-b2f35037bde2"
      },
      "execution_count": 16,
      "outputs": [
        {
          "output_type": "execute_result",
          "data": {
            "text/plain": [
              "0    91\n",
              "4    54\n",
              "1    23\n",
              "3    16\n",
              "2    16\n",
              "Name: Drug_Type, dtype: int64"
            ]
          },
          "metadata": {},
          "execution_count": 16
        }
      ]
    },
    {
      "cell_type": "code",
      "source": [
        "plt.bar(data['Age'],data['Sex_numeric_value'])"
      ],
      "metadata": {
        "colab": {
          "base_uri": "https://localhost:8080/",
          "height": 283
        },
        "id": "CNTa-RUhKuqd",
        "outputId": "03f27161-bbbb-4cf0-de40-7173ac82bac0"
      },
      "execution_count": 18,
      "outputs": [
        {
          "output_type": "execute_result",
          "data": {
            "text/plain": [
              "<BarContainer object of 200 artists>"
            ]
          },
          "metadata": {},
          "execution_count": 18
        },
        {
          "output_type": "display_data",
          "data": {
            "text/plain": [
              "<Figure size 432x288 with 1 Axes>"
            ],
            "image/png": "[encoded data removed]"
          },
          "metadata": {
            "needs_background": "light"
          }
        }
      ]
    },
    {
      "cell_type": "code",
      "source": [
        "plt.scatter(data['Age'],data['Drug_Type'])"
      ],
      "metadata": {
        "colab": {
          "base_uri": "https://localhost:8080/",
          "height": 283
        },
        "id": "pNQJ1O1YKuxj",
        "outputId": "1e928840-255b-4d67-a0ae-00dd4a585a0f"
      },
      "execution_count": 19,
      "outputs": [
        {
          "output_type": "execute_result",
          "data": {
            "text/plain": [
              "<matplotlib.collections.PathCollection at 0x7fb83033df50>"
            ]
          },
          "metadata": {},
          "execution_count": 19
        },
        {
          "output_type": "display_data",
          "data": {
            "text/plain": [
              "<Figure size 432x288 with 1 Axes>"
            ],
            "image/png": "[encoded data removed]"
          },
          "metadata": {
            "needs_background": "light"
          }
        }
      ]
    },
    {
      "cell_type": "code",
      "source": [
        "data[\"Age\"].plot.hist()"
      ],
      "metadata": {
        "colab": {
          "base_uri": "https://localhost:8080/",
          "height": 283
        },
        "id": "F7u5rCexL3rd",
        "outputId": "8e19ce63-1c47-4f06-9a62-5c19e1befbfe"
      },
      "execution_count": 20,
      "outputs": [
        {
          "output_type": "execute_result",
          "data": {
            "text/plain": [
              "<matplotlib.axes._subplots.AxesSubplot at 0x7fb830325b90>"
            ]
          },
          "metadata": {},
          "execution_count": 20
        },
        {
          "output_type": "display_data",
          "data": {
            "text/plain": [
              "<Figure size 432x288 with 1 Axes>"
            ],
            "image/png": "[encoded data removed]"
          },
          "metadata": {
            "needs_background": "light"
          }
        }
      ]
    },
    {
      "cell_type": "code",
      "source": [
        "data['Drug_Type'].plot.hist()"
      ],
      "metadata": {
        "colab": {
          "base_uri": "https://localhost:8080/",
          "height": 283
        },
        "id": "VUgcXt9EL36b",
        "outputId": "9556e75a-549f-4373-faf3-e9607c7fab05"
      },
      "execution_count": 21,
      "outputs": [
        {
          "output_type": "execute_result",
          "data": {
            "text/plain": [
              "<matplotlib.axes._subplots.AxesSubplot at 0x7fb830300ad0>"
            ]
          },
          "metadata": {},
          "execution_count": 21
        },
        {
          "output_type": "display_data",
          "data": {
            "text/plain": [
              "<Figure size 432x288 with 1 Axes>"
            ],
            "image/png": "[encoded data removed]"
          },
          "metadata": {
            "needs_background": "light"
          }
        }
      ]
    },
    {
      "cell_type": "code",
      "source": [
        "X=data.drop('Drug_Type',axis=1)\n",
        "y=data['Drug_Type']"
      ],
      "metadata": {
        "id": "z7VQmWHcNd0m"
      },
      "execution_count": 22,
      "outputs": []
    },
    {
      "cell_type": "code",
      "source": [
        "X.head()"
      ],
      "metadata": {
        "colab": {
          "base_uri": "https://localhost:8080/",
          "height": 206
        },
        "id": "1-Rh8DIVNd-1",
        "outputId": "8d28e953-d450-4d44-aa30-c38284066544"
      },
      "execution_count": 43,
      "outputs": [
        {
          "output_type": "execute_result",
          "data": {
            "text/plain": [
              "   Age  Na_to_K  Sex_numeric_value  BP_numeric_values  \\\n",
              "0   23   25.355                  0                  0   \n",
              "1   47   13.093                  1                  1   \n",
              "2   47   10.114                  1                  1   \n",
              "3   28    7.798                  0                  2   \n",
              "4   61   18.043                  0                  1   \n",
              "\n",
              "   Cholesterol_numeric_value  \n",
              "0                          0  \n",
              "1                          0  \n",
              "2                          0  \n",
              "3                          0  \n",
              "4                          0  "
            ],
            "text/html": [
              "\n",
              "  <div id=\"df-330bec5e-936e-4913-855a-c188cc5bfa78\">\n",
              "    <div class=\"colab-df-container\">\n",
              "      <div>\n",
              "<style scoped>\n",
              "    .dataframe tbody tr th:only-of-type {\n",
              "        vertical-align: middle;\n",
              "    }\n",
              "\n",
              "    .dataframe tbody tr th {\n",
              "        vertical-align: top;\n",
              "    }\n",
              "\n",
              "    .dataframe thead th {\n",
              "        text-align: right;\n",
              "    }\n",
              "</style>\n",
              "<table border=\"1\" class=\"dataframe\">\n",
              "  <thead>\n",
              "    <tr style=\"text-align: right;\">\n",
              "      <th></th>\n",
              "      <th>Age</th>\n",
              "      <th>Na_to_K</th>\n",
              "      <th>Sex_numeric_value</th>\n",
              "      <th>BP_numeric_values</th>\n",
              "      <th>Cholesterol_numeric_value</th>\n",
              "    </tr>\n",
              "  </thead>\n",
              "  <tbody>\n",
              "    <tr>\n",
              "      <th>0</th>\n",
              "      <td>23</td>\n",
              "      <td>25.355</td>\n",
              "      <td>0</td>\n",
              "      <td>0</td>\n",
              "      <td>0</td>\n",
              "    </tr>\n",
              "    <tr>\n",
              "      <th>1</th>\n",
              "      <td>47</td>\n",
              "      <td>13.093</td>\n",
              "      <td>1</td>\n",
              "      <td>1</td>\n",
              "      <td>0</td>\n",
              "    </tr>\n",
              "    <tr>\n",
              "      <th>2</th>\n",
              "      <td>47</td>\n",
              "      <td>10.114</td>\n",
              "      <td>1</td>\n",
              "      <td>1</td>\n",
              "      <td>0</td>\n",
              "    </tr>\n",
              "    <tr>\n",
              "      <th>3</th>\n",
              "      <td>28</td>\n",
              "      <td>7.798</td>\n",
              "      <td>0</td>\n",
              "      <td>2</td>\n",
              "      <td>0</td>\n",
              "    </tr>\n",
              "    <tr>\n",
              "      <th>4</th>\n",
              "      <td>61</td>\n",
              "      <td>18.043</td>\n",
              "      <td>0</td>\n",
              "      <td>1</td>\n",
              "      <td>0</td>\n",
              "    </tr>\n",
              "  </tbody>\n",
              "</table>\n",
              "</div>\n",
              "      <button class=\"colab-df-convert\" onclick=\"convertToInteractive('df-330bec5e-936e-4913-855a-c188cc5bfa78')\"\n",
              "              title=\"Convert this dataframe to an interactive table.\"\n",
              "              style=\"display:none;\">\n",
              "        \n",
              "  <svg xmlns=\"http://www.w3.org/2000/svg\" height=\"24px\"viewBox=\"0 0 24 24\"\n",
              "       width=\"24px\">\n",
              "    <path d=\"M0 0h24v24H0V0z\" fill=\"none\"/>\n",
              "    <path d=\"M18.56 5.44l.94 2.06.94-2.06 2.06-.94-2.06-.94-.94-2.06-.94 2.06-2.06.94zm-11 1L8.5 8.5l.94-2.06 2.06-.94-2.06-.94L8.5 2.5l-.94 2.06-2.06.94zm10 10l.94 2.06.94-2.06 2.06-.94-2.06-.94-.94-2.06-.94 2.06-2.06.94z\"/><path d=\"M17.41 7.96l-1.37-1.37c-.4-.4-.92-.59-1.43-.59-.52 0-1.04.2-1.43.59L10.3 9.45l-7.72 7.72c-.78.78-.78 2.05 0 2.83L4 21.41c.39.39.9.59 1.41.59.51 0 1.02-.2 1.41-.59l7.78-7.78 2.81-2.81c.8-.78.8-2.07 0-2.86zM5.41 20L4 18.59l7.72-7.72 1.47 1.35L5.41 20z\"/>\n",
              "  </svg>\n",
              "      </button>\n",
              "      \n",
              "  <style>\n",
              "    .colab-df-container {\n",
              "      display:flex;\n",
              "      flex-wrap:wrap;\n",
              "      gap: 12px;\n",
              "    }\n",
              "\n",
              "    .colab-df-convert {\n",
              "      background-color: #E8F0FE;\n",
              "      border: none;\n",
              "      border-radius: 50%;\n",
              "      cursor: pointer;\n",
              "      display: none;\n",
              "      fill: #1967D2;\n",
              "      height: 32px;\n",
              "      padding: 0 0 0 0;\n",
              "      width: 32px;\n",
              "    }\n",
              "\n",
              "    .colab-df-convert:hover {\n",
              "      background-color: #E2EBFA;\n",
              "      box-shadow: 0px 1px 2px rgba(60, 64, 67, 0.3), 0px 1px 3px 1px rgba(60, 64, 67, 0.15);\n",
              "      fill: #174EA6;\n",
              "    }\n",
              "\n",
              "    [theme=dark] .colab-df-convert {\n",
              "      background-color: #3B4455;\n",
              "      fill: #D2E3FC;\n",
              "    }\n",
              "\n",
              "    [theme=dark] .colab-df-convert:hover {\n",
              "      background-color: #434B5C;\n",
              "      box-shadow: 0px 1px 3px 1px rgba(0, 0, 0, 0.15);\n",
              "      filter: drop-shadow(0px 1px 2px rgba(0, 0, 0, 0.3));\n",
              "      fill: #FFFFFF;\n",
              "    }\n",
              "  </style>\n",
              "\n",
              "      <script>\n",
              "        const buttonEl =\n",
              "          document.querySelector('#df-330bec5e-936e-4913-855a-c188cc5bfa78 button.colab-df-convert');\n",
              "        buttonEl.style.display =\n",
              "          google.colab.kernel.accessAllowed ? 'block' : 'none';\n",
              "\n",
              "        async function convertToInteractive(key) {\n",
              "          const element = document.querySelector('#df-330bec5e-936e-4913-855a-c188cc5bfa78');\n",
              "          const dataTable =\n",
              "            await google.colab.kernel.invokeFunction('convertToInteractive',\n",
              "                                                     [key], {});\n",
              "          if (!dataTable) return;\n",
              "\n",
              "          const docLinkHtml = 'Like what you see? Visit the ' +\n",
              "            '<a target=\"_blank\" href=https://colab.research.google.com/notebooks/data_table.ipynb>data table notebook</a>'\n",
              "            + ' to learn more about interactive tables.';\n",
              "          element.innerHTML = '';\n",
              "          dataTable['output_type'] = 'display_data';\n",
              "          await google.colab.output.renderOutput(dataTable, element);\n",
              "          const docLink = document.createElement('div');\n",
              "          docLink.innerHTML = docLinkHtml;\n",
              "          element.appendChild(docLink);\n",
              "        }\n",
              "      </script>\n",
              "    </div>\n",
              "  </div>\n",
              "  "
            ]
          },
          "metadata": {},
          "execution_count": 43
        }
      ]
    },
    {
      "cell_type": "code",
      "source": [
        "X.drop(['Sex'],axis=1,inplace=True)"
      ],
      "metadata": {
        "id": "OkGm0IkBVB7B"
      },
      "execution_count": 39,
      "outputs": []
    },
    {
      "cell_type": "code",
      "source": [
        ""
      ],
      "metadata": {
        "id": "D9BfZpJTTNLu"
      },
      "execution_count": 24,
      "outputs": []
    },
    {
      "cell_type": "code",
      "source": [
        ""
      ],
      "metadata": {
        "id": "EMac48wyTqB3"
      },
      "execution_count": 24,
      "outputs": []
    },
    {
      "cell_type": "code",
      "source": [
        "y.head()"
      ],
      "metadata": {
        "colab": {
          "base_uri": "https://localhost:8080/"
        },
        "id": "t31OhXMQOfpT",
        "outputId": "ed64fe24-89e6-4024-f589-71315f4ce46e"
      },
      "execution_count": 25,
      "outputs": [
        {
          "output_type": "execute_result",
          "data": {
            "text/plain": [
              "0    0\n",
              "1    3\n",
              "2    3\n",
              "3    4\n",
              "4    0\n",
              "Name: Drug_Type, dtype: int64"
            ]
          },
          "metadata": {},
          "execution_count": 25
        }
      ]
    },
    {
      "cell_type": "code",
      "source": [
        "from sklearn.model_selection import train_test_split"
      ],
      "metadata": {
        "id": "SxtaJKbUOn9I"
      },
      "execution_count": 26,
      "outputs": []
    },
    {
      "cell_type": "code",
      "source": [
        "X_train, X_test, y_train, y_test = train_test_split(X, y, test_size=0.3, random_state=1)"
      ],
      "metadata": {
        "id": "sVIyMuV0Ow-Q"
      },
      "execution_count": 45,
      "outputs": []
    },
    {
      "cell_type": "code",
      "source": [
        "from sklearn.preprocessing import StandardScaler\n",
        "scaler=StandardScaler()"
      ],
      "metadata": {
        "id": "GhsFTeHFUSg0"
      },
      "execution_count": 46,
      "outputs": []
    },
    {
      "cell_type": "code",
      "source": [
        "scaler.fit(X_train)"
      ],
      "metadata": {
        "colab": {
          "base_uri": "https://localhost:8080/"
        },
        "id": "1m2hisLEVtmM",
        "outputId": "d89a56c5-2e5e-4ab1-99b8-f86965d693cc"
      },
      "execution_count": 48,
      "outputs": [
        {
          "output_type": "execute_result",
          "data": {
            "text/plain": [
              "StandardScaler()"
            ]
          },
          "metadata": {},
          "execution_count": 48
        }
      ]
    },
    {
      "cell_type": "code",
      "source": [
        "X_train_scaled=scaler.fit_transform(X_train)"
      ],
      "metadata": {
        "id": "eatFOfHDXXYW"
      },
      "execution_count": 49,
      "outputs": []
    },
    {
      "cell_type": "code",
      "source": [
        "print(X_train_scaled)"
      ],
      "metadata": {
        "colab": {
          "base_uri": "https://localhost:8080/"
        },
        "id": "nX4QqJ3YUSnR",
        "outputId": "5074f7f1-8943-4e5f-cef2-775675d05b9d"
      },
      "execution_count": 53,
      "outputs": [
        {
          "output_type": "stream",
          "name": "stdout",
          "text": [
            "[[ 1.39698536 -0.9114338   0.93094934  1.41004     1.1055416 ]\n",
            " [-1.6008373  -0.7285102   0.93094934  1.41004     1.1055416 ]\n",
            " [-1.48092439 -0.38417525 -1.07417231 -1.08876506 -0.90453403]\n",
            " [ 0.37772565 -0.04039546  0.93094934  1.41004     1.1055416 ]\n",
            " [-0.04196952 -0.29271345  0.93094934 -1.08876506 -0.90453403]\n",
            " [-1.30105503 -1.03731522 -1.07417231  1.41004    -0.90453403]\n",
            " [-0.52162114 -1.14307226  0.93094934  1.41004     1.1055416 ]\n",
            " [-0.40170824 -0.98721247  0.93094934  0.16063747  1.1055416 ]\n",
            " [-1.24109858  2.16579087  0.93094934  1.41004    -0.90453403]\n",
            " [-0.88135986 -0.44760172  0.93094934 -1.08876506 -0.90453403]\n",
            " [ 1.45694181 -0.81775138 -1.07417231 -1.08876506  1.1055416 ]\n",
            " [ 0.1978563  -0.83468361 -1.07417231  0.16063747 -0.90453403]\n",
            " [-0.46166469 -0.0820321  -1.07417231 -1.08876506  1.1055416 ]\n",
            " [ 0.91733373 -0.78236024 -1.07417231  0.16063747 -0.90453403]\n",
            " [ 0.85737728  1.46615667 -1.07417231  0.16063747 -0.90453403]\n",
            " [ 1.27707245 -0.32088757 -1.07417231  0.16063747  1.1055416 ]\n",
            " [-0.04196952 -0.09785402  0.93094934  0.16063747 -0.90453403]\n",
            " [-0.22183888 -0.82968721 -1.07417231  1.41004    -0.90453403]\n",
            " [-0.10192597  1.83061598 -1.07417231  0.16063747  1.1055416 ]\n",
            " [-0.94131631  1.52430916  0.93094934  1.41004    -0.90453403]\n",
            " [-0.40170824  0.08923325  0.93094934  0.16063747  1.1055416 ]\n",
            " [ 1.09720309  0.07119071  0.93094934  1.41004    -0.90453403]\n",
            " [ 1.217116   -1.15473052  0.93094934  1.41004    -0.90453403]\n",
            " [-0.5815776   0.8847705   0.93094934  1.41004    -0.90453403]\n",
            " [-1.24109858 -1.12003333  0.93094934 -1.08876506 -0.90453403]\n",
            " [ 1.81668053  0.67464429 -1.07417231  0.16063747 -0.90453403]\n",
            " [-0.7014905  -0.88395362 -1.07417231  0.16063747 -0.90453403]\n",
            " [ 0.3177692  -0.34462045  0.93094934  0.16063747  1.1055416 ]\n",
            " [ 0.1978563  -0.78805058  0.93094934 -1.08876506 -0.90453403]\n",
            " [ 1.33702891 -1.10670961 -1.07417231  1.41004     1.1055416 ]\n",
            " [-1.72075021  0.08937204 -1.07417231 -1.08876506  1.1055416 ]\n",
            " [-0.7014905  -0.92101023  0.93094934 -1.08876506  1.1055416 ]\n",
            " [ 0.79742083 -0.85161584 -1.07417231 -1.08876506  1.1055416 ]\n",
            " [ 1.57685472 -0.86493956  0.93094934 -1.08876506 -0.90453403]\n",
            " [ 1.69676762 -0.19972497 -1.07417231  0.16063747  1.1055416 ]\n",
            " [ 0.73746437 -0.98749005  0.93094934  1.41004    -0.90453403]\n",
            " [ 0.73746437 -0.62650045 -1.07417231  0.16063747 -0.90453403]\n",
            " [ 0.49763856 -0.85869407  0.93094934  1.41004    -0.90453403]\n",
            " [ 1.03724664 -1.21316059 -1.07417231  0.16063747  1.1055416 ]\n",
            " [-0.16188242  0.36889263 -1.07417231  0.16063747  1.1055416 ]\n",
            " [-1.06122922  0.67006426  0.93094934  0.16063747  1.1055416 ]\n",
            " [ 1.15715955  1.36511844  0.93094934  1.41004    -0.90453403]\n",
            " [-0.16188242 -0.12838755  0.93094934 -1.08876506  1.1055416 ]\n",
            " [ 0.67750792 -1.22412491  0.93094934  1.41004     1.1055416 ]\n",
            " [ 0.1978563  -0.82816054  0.93094934  0.16063747 -0.90453403]\n",
            " [ 1.57685472 -0.2934074   0.93094934 -1.08876506 -0.90453403]\n",
            " [ 0.91733373 -0.29784864  0.93094934 -1.08876506 -0.90453403]\n",
            " [ 0.3177692  -1.02440786  0.93094934 -1.08876506  1.1055416 ]\n",
            " [ 0.3177692   0.02691709 -1.07417231  1.41004    -0.90453403]\n",
            " [-0.52162114 -0.95917714  0.93094934  0.16063747  1.1055416 ]\n",
            " [-1.24109858  1.28711915 -1.07417231 -1.08876506 -0.90453403]\n",
            " [ 0.3177692  -0.76945289  0.93094934  0.16063747 -0.90453403]\n",
            " [-1.06122922  0.42746149 -1.07417231 -1.08876506  1.1055416 ]\n",
            " [ 1.45694181  1.52236612 -1.07417231  1.41004     1.1055416 ]\n",
            " [-1.06122922 -0.26662116 -1.07417231  0.16063747 -0.90453403]\n",
            " [ 0.79742083 -0.25884899 -1.07417231  1.41004    -0.90453403]\n",
            " [-0.40170824  0.97290137 -1.07417231 -1.08876506  1.1055416 ]\n",
            " [ 1.57685472  0.61177298 -1.07417231  1.41004    -0.90453403]\n",
            " [-0.40170824 -0.41498636 -1.07417231 -1.08876506 -0.90453403]\n",
            " [ 1.39698536  0.64008589  0.93094934  0.16063747  1.1055416 ]\n",
            " [-0.76144696  0.13711538  0.93094934 -1.08876506  1.1055416 ]\n",
            " [-0.88135986  1.85545917 -1.07417231 -1.08876506 -0.90453403]\n",
            " [-1.06122922 -0.52379676 -1.07417231 -1.08876506  1.1055416 ]\n",
            " [-0.82140341 -0.78249903 -1.07417231  1.41004    -0.90453403]\n",
            " [ 1.81668053 -0.08952669  0.93094934 -1.08876506  1.1055416 ]\n",
            " [ 1.51689827 -0.08369756  0.93094934  0.16063747 -0.90453403]\n",
            " [-1.30105503  0.93501203 -1.07417231 -1.08876506  1.1055416 ]\n",
            " [ 1.03724664 -0.9212878   0.93094934  1.41004    -0.90453403]\n",
            " [-1.66079375  0.40608802  0.93094934 -1.08876506  1.1055416 ]\n",
            " [ 0.1978563  -0.5987427  -1.07417231  0.16063747 -0.90453403]\n",
            " [ 0.3177692  -0.70325064  0.93094934  0.16063747  1.1055416 ]\n",
            " [-0.34175178 -0.65994855 -1.07417231 -1.08876506  1.1055416 ]\n",
            " [-1.42096794 -0.60998459 -1.07417231  0.16063747  1.1055416 ]\n",
            " [-0.76144696 -0.58430866  0.93094934 -1.08876506  1.1055416 ]\n",
            " [-1.48092439  1.37233545 -1.07417231 -1.08876506  1.1055416 ]\n",
            " [ 0.25781275 -0.1450422  -1.07417231  0.16063747 -0.90453403]\n",
            " [ 1.33702891  0.03690988  0.93094934 -1.08876506 -0.90453403]\n",
            " [-0.04196952  0.45619077  0.93094934  0.16063747  1.1055416 ]\n",
            " [-0.94131631 -0.44440958 -1.07417231  1.41004    -0.90453403]\n",
            " [-1.30105503  1.69501935  0.93094934 -1.08876506  1.1055416 ]\n",
            " [ 1.45694181 -0.70394459  0.93094934 -1.08876506 -0.90453403]\n",
            " [ 1.81668053 -0.57487103  0.93094934  0.16063747  1.1055416 ]\n",
            " [ 0.1978563  -1.30434482 -1.07417231  1.41004     1.1055416 ]\n",
            " [ 1.27707245  2.6253205   0.93094934 -1.08876506  1.1055416 ]\n",
            " [ 0.97729019 -0.38556314 -1.07417231 -1.08876506 -0.90453403]\n",
            " [-1.66079375 -0.07842359 -1.07417231 -1.08876506  1.1055416 ]\n",
            " [ 0.85737728 -0.25565685 -1.07417231 -1.08876506  1.1055416 ]\n",
            " [-1.36101149  1.74192996 -1.07417231 -1.08876506  1.1055416 ]\n",
            " [-1.24109858  0.10672064  0.93094934  1.41004    -0.90453403]\n",
            " [ 0.97729019 -0.29798743  0.93094934 -1.08876506 -0.90453403]\n",
            " [ 1.09720309  1.54082503  0.93094934  0.16063747  1.1055416 ]\n",
            " [-0.76144696  1.98258969  0.93094934 -1.08876506 -0.90453403]\n",
            " [-0.46166469 -0.67771351 -1.07417231 -1.08876506 -0.90453403]\n",
            " [-1.24109858 -0.53031983  0.93094934  1.41004    -0.90453403]\n",
            " [-0.64153405  2.41561066 -1.07417231  0.16063747 -0.90453403]\n",
            " [-0.94131631 -1.14959534 -1.07417231  1.41004    -0.90453403]\n",
            " [-1.42096794 -0.66883103 -1.07417231 -1.08876506 -0.90453403]\n",
            " [-0.94131631  0.51559236 -1.07417231  0.16063747 -0.90453403]\n",
            " [-1.30105503 -1.1006029   0.93094934  0.16063747 -0.90453403]\n",
            " [ 0.49763856  2.33733379  0.93094934  0.16063747  1.1055416 ]\n",
            " [ 0.85737728  0.4038674   0.93094934 -1.08876506 -0.90453403]\n",
            " [-1.54088085 -1.01746842 -1.07417231  1.41004     1.1055416 ]\n",
            " [-1.72075021  0.15612944  0.93094934 -1.08876506  1.1055416 ]\n",
            " [ 0.43768211  0.30727041  0.93094934 -1.08876506 -0.90453403]\n",
            " [ 1.75672408  0.31462622 -1.07417231 -1.08876506 -0.90453403]\n",
            " [ 0.97729019 -0.12630571  0.93094934  1.41004    -0.90453403]\n",
            " [-0.34175178  1.9144444  -1.07417231  0.16063747  1.1055416 ]\n",
            " [ 0.1978563   2.42338283  0.93094934  0.16063747  1.1055416 ]\n",
            " [ 0.1978563  -0.41470878  0.93094934  0.16063747 -0.90453403]\n",
            " [-0.22183888  1.63006621  0.93094934 -1.08876506 -0.90453403]\n",
            " [ 0.1978563   2.01062502  0.93094934  0.16063747  1.1055416 ]\n",
            " [-1.18114213 -0.91684656  0.93094934 -1.08876506  1.1055416 ]\n",
            " [ 0.07794339 -1.07020816  0.93094934  0.16063747  1.1055416 ]\n",
            " [-0.16188242 -0.7000585   0.93094934  0.16063747 -0.90453403]\n",
            " [-1.66079375 -0.56557218  0.93094934  0.16063747 -0.90453403]\n",
            " [ 1.217116    1.34069161 -1.07417231  0.16063747  1.1055416 ]\n",
            " [ 0.43768211 -0.34475924 -1.07417231  1.41004    -0.90453403]\n",
            " [ 0.85737728  3.07638401 -1.07417231  0.16063747 -0.90453403]\n",
            " [ 0.61755147  1.19038337  0.93094934  1.41004    -0.90453403]\n",
            " [ 0.85737728  0.46285263 -1.07417231 -1.08876506 -0.90453403]\n",
            " [ 0.97729019 -1.03537218  0.93094934 -1.08876506  1.1055416 ]\n",
            " [ 0.55759501  0.9551364   0.93094934  0.16063747 -0.90453403]\n",
            " [-0.76144696 -0.67368863  0.93094934 -1.08876506  1.1055416 ]\n",
            " [ 1.51689827 -0.83496119 -1.07417231  1.41004    -0.90453403]\n",
            " [-0.40170824 -0.56557218 -1.07417231  0.16063747  1.1055416 ]\n",
            " [ 0.07794339 -0.4478793  -1.07417231 -1.08876506 -0.90453403]\n",
            " [ 0.79742083  0.42288146  0.93094934  0.16063747  1.1055416 ]\n",
            " [-0.28179533 -0.01555227  0.93094934  1.41004    -0.90453403]\n",
            " [-0.94131631  0.37860784 -1.07417231 -1.08876506  1.1055416 ]\n",
            " [-0.10192597  0.68769044 -1.07417231 -1.08876506 -0.90453403]\n",
            " [-0.94131631  0.49879892 -1.07417231  1.41004    -0.90453403]\n",
            " [-0.7014905  -1.19414653 -1.07417231  1.41004    -0.90453403]\n",
            " [-0.28179533 -0.89061549  0.93094934 -1.08876506 -0.90453403]\n",
            " [ 1.69676762  0.0317747   0.93094934  0.16063747 -0.90453403]\n",
            " [-0.7014905  -0.72739989 -1.07417231  0.16063747  1.1055416 ]\n",
            " [-1.18114213  1.34693711  0.93094934  1.41004    -0.90453403]\n",
            " [-0.52162114 -0.44232775 -1.07417231 -1.08876506 -0.90453403]\n",
            " [-1.18114213 -0.76001525 -1.07417231  1.41004    -0.90453403]\n",
            " [ 0.3177692  -1.36180337  0.93094934 -1.08876506  1.1055416 ]\n",
            " [-0.28179533 -0.29743227  0.93094934  0.16063747  1.1055416 ]]\n"
          ]
        }
      ]
    },
    {
      "cell_type": "code",
      "source": [
        "scaler.fit(X_test)"
      ],
      "metadata": {
        "colab": {
          "base_uri": "https://localhost:8080/"
        },
        "id": "4kYVY31dUSti",
        "outputId": "6d5a2a7d-eba2-4870-dbd5-787bdcd3213e"
      },
      "execution_count": 54,
      "outputs": [
        {
          "output_type": "execute_result",
          "data": {
            "text/plain": [
              "StandardScaler()"
            ]
          },
          "metadata": {},
          "execution_count": 54
        }
      ]
    },
    {
      "cell_type": "code",
      "source": [
        "X_test_scale=scaler.fit_transform(X_test)"
      ],
      "metadata": {
        "id": "W9pYKTolYNyp"
      },
      "execution_count": 55,
      "outputs": []
    },
    {
      "cell_type": "code",
      "source": [
        "X_train.shape"
      ],
      "metadata": {
        "colab": {
          "base_uri": "https://localhost:8080/"
        },
        "id": "I4W5DMdMOxD1",
        "outputId": "769399ac-4019-4dda-e809-971f6a7512a9"
      },
      "execution_count": 28,
      "outputs": [
        {
          "output_type": "execute_result",
          "data": {
            "text/plain": [
              "(140, 6)"
            ]
          },
          "metadata": {},
          "execution_count": 28
        }
      ]
    },
    {
      "cell_type": "code",
      "source": [
        "X_test.shape"
      ],
      "metadata": {
        "colab": {
          "base_uri": "https://localhost:8080/"
        },
        "id": "iUGPuyeeOxLr",
        "outputId": "205e1815-2e5b-49e2-b803-f8bdc9c8c415"
      },
      "execution_count": 29,
      "outputs": [
        {
          "output_type": "execute_result",
          "data": {
            "text/plain": [
              "(60, 6)"
            ]
          },
          "metadata": {},
          "execution_count": 29
        }
      ]
    },
    {
      "cell_type": "code",
      "source": [
        "from sklearn.linear_model import LogisticRegression"
      ],
      "metadata": {
        "id": "mwoCsL7bOxTN"
      },
      "execution_count": 56,
      "outputs": []
    },
    {
      "cell_type": "code",
      "source": [
        "logReg=LogisticRegression()"
      ],
      "metadata": {
        "id": "2tJBZaVFPcSN"
      },
      "execution_count": 57,
      "outputs": []
    },
    {
      "cell_type": "code",
      "source": [
        "logReg.fit(X_train_scaled,y_train)"
      ],
      "metadata": {
        "colab": {
          "base_uri": "https://localhost:8080/"
        },
        "id": "tDvY15vWPiS5",
        "outputId": "9bd0853f-a630-4366-a1f8-8f4596479029"
      },
      "execution_count": 58,
      "outputs": [
        {
          "output_type": "execute_result",
          "data": {
            "text/plain": [
              "LogisticRegression()"
            ]
          },
          "metadata": {},
          "execution_count": 58
        }
      ]
    },
    {
      "cell_type": "code",
      "source": [
        "pred=logReg.predict(X_test_scale)"
      ],
      "metadata": {
        "id": "uZOpOHT3ZYzF"
      },
      "execution_count": 60,
      "outputs": []
    },
    {
      "cell_type": "code",
      "source": [
        "from sklearn.metrics import classification_report"
      ],
      "metadata": {
        "id": "KfTCFEEpZtFg"
      },
      "execution_count": 61,
      "outputs": []
    },
    {
      "cell_type": "code",
      "source": [
        "classification_report(y_test,pred)"
      ],
      "metadata": {
        "colab": {
          "base_uri": "https://localhost:8080/",
          "height": 127
        },
        "id": "NSXKC30NZtfs",
        "outputId": "b706cfc0-f11c-4a65-8458-45012ae4cba1"
      },
      "execution_count": 62,
      "outputs": [
        {
          "output_type": "execute_result",
          "data": {
            "text/plain": [
              "'              precision    recall  f1-score   support\\n\\n           0       0.96      0.93      0.94        27\\n           1       0.67      1.00      0.80         4\\n           2       0.80      0.67      0.73         6\\n           3       0.60      0.75      0.67         4\\n           4       0.89      0.84      0.86        19\\n\\n    accuracy                           0.87        60\\n   macro avg       0.78      0.84      0.80        60\\nweighted avg       0.88      0.87      0.87        60\\n'"
            ],
            "application/vnd.google.colaboratory.intrinsic+json": {
              "type": "string"
            }
          },
          "metadata": {},
          "execution_count": 62
        }
      ]
    },
    {
      "cell_type": "code",
      "source": [
        "from sklearn.metrics import confusion_matrix"
      ],
      "metadata": {
        "id": "YCeXAlUVZtnM"
      },
      "execution_count": 63,
      "outputs": []
    },
    {
      "cell_type": "code",
      "source": [
        "cm=confusion_matrix(y_test,pred)"
      ],
      "metadata": {
        "id": "pxBbuV2zbNyt"
      },
      "execution_count": 74,
      "outputs": []
    },
    {
      "cell_type": "code",
      "source": [
        "import seaborn as sns\n",
        "plt.figure(figsize=(7,5))\n",
        "sns.heatmap(cm,annot=True)\n",
        "plt.xlabel(\"Predicted\")\n",
        "plt.ylabel(\"True\")"
      ],
      "metadata": {
        "colab": {
          "base_uri": "https://localhost:8080/",
          "height": 356
        },
        "id": "-miz3JhunOUz",
        "outputId": "930f5841-81cd-4213-aca6-22e586d7e188"
      },
      "execution_count": 75,
      "outputs": [
        {
          "output_type": "execute_result",
          "data": {
            "text/plain": [
              "Text(42.0, 0.5, 'True')"
            ]
          },
          "metadata": {},
          "execution_count": 75
        },
        {
          "output_type": "display_data",
          "data": {
            "text/plain": [
              "<Figure size 504x360 with 2 Axes>"
            ],
            "image/png": "[encoded data removed]"
          },
          "metadata": {
            "needs_background": "light"
          }
        }
      ]
    },
    {
      "cell_type": "code",
      "source": [
        "from sklearn.metrics import accuracy_score"
      ],
      "metadata": {
        "id": "OmREVM0lbphH"
      },
      "execution_count": 65,
      "outputs": []
    },
    {
      "cell_type": "code",
      "source": [
        "accuracy_score(y_test,pred)"
      ],
      "metadata": {
        "colab": {
          "base_uri": "https://localhost:8080/"
        },
        "id": "cy3rXt9Fbu_7",
        "outputId": "cf946398-6823-4319-dd74-fdf140e0fc73"
      },
      "execution_count": 66,
      "outputs": [
        {
          "output_type": "execute_result",
          "data": {
            "text/plain": [
              "0.8666666666666667"
            ]
          },
          "metadata": {},
          "execution_count": 66
        }
      ]
    },
    {
      "cell_type": "code",
      "source": [
        "plt.xlabel(\"Drug Type\")\n",
        "plt.ylabel(\"Age\")\n",
        "plt.scatter(data['Sex_numeric_value'],data['Drug_Type'],color='green',marker='+')\n",
        "plt.scatter(data['Sex_numeric_value'],data['Age'],color='red',marker='.')"
      ],
      "metadata": {
        "colab": {
          "base_uri": "https://localhost:8080/",
          "height": 297
        },
        "id": "9NHg0JrBdFzA",
        "outputId": "129dbad3-923c-4411-d9d4-131fc8419b9e"
      },
      "execution_count": 69,
      "outputs": [
        {
          "output_type": "execute_result",
          "data": {
            "text/plain": [
              "<matplotlib.collections.PathCollection at 0x7fb82ee2fa90>"
            ]
          },
          "metadata": {},
          "execution_count": 69
        },
        {
          "output_type": "display_data",
          "data": {
            "text/plain": [
              "<Figure size 432x288 with 1 Axes>"
            ],
            "image/png": "[encoded data removed]"
          },
          "metadata": {
            "needs_background": "light"
          }
        }
      ]
    },
    {
      "cell_type": "code",
      "source": [
        ""
      ],
      "metadata": {
        "id": "J5eV7vImdGuR"
      },
      "execution_count": null,
      "outputs": []
    },
    {
      "cell_type": "code",
      "source": [
        "from sklearn.neighbors import KNeighborsClassifier"
      ],
      "metadata": {
        "id": "6OIQDGvedHFE"
      },
      "execution_count": 70,
      "outputs": []
    },
    {
      "cell_type": "code",
      "source": [
        "knn=KNeighborsClassifier(n_neighbors=10)"
      ],
      "metadata": {
        "id": "dxzwx8QQdH0m"
      },
      "execution_count": 71,
      "outputs": []
    },
    {
      "cell_type": "code",
      "source": [
        "knn.fit(X_train_scaled,y_train)"
      ],
      "metadata": {
        "colab": {
          "base_uri": "https://localhost:8080/"
        },
        "id": "Z9wi7vPndIRA",
        "outputId": "eee39dec-bf47-44ad-94d7-863653634812"
      },
      "execution_count": 72,
      "outputs": [
        {
          "output_type": "execute_result",
          "data": {
            "text/plain": [
              "KNeighborsClassifier(n_neighbors=10)"
            ]
          },
          "metadata": {},
          "execution_count": 72
        }
      ]
    },
    {
      "cell_type": "code",
      "source": [
        "knn.score(X_test_scale,y_test)"
      ],
      "metadata": {
        "colab": {
          "base_uri": "https://localhost:8080/"
        },
        "id": "HYA8Npz0mMgi",
        "outputId": "1455f5d5-26dd-48c4-b058-d808ba2153e9"
      },
      "execution_count": 73,
      "outputs": [
        {
          "output_type": "execute_result",
          "data": {
            "text/plain": [
              "0.7833333333333333"
            ]
          },
          "metadata": {},
          "execution_count": 73
        }
      ]
    }
  ]
}